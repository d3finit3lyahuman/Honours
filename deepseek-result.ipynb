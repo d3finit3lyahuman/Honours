{
 "cells": [
  {
   "cell_type": "code",
   "execution_count": 35,
   "metadata": {},
   "outputs": [],
   "source": [
    "import pandas as pd\n",
    "import numpy as np\n",
    "import time\n",
    "import os\n",
    "import logging\n",
    "from datetime import datetime\n",
    "from datasets import load_dataset\n",
    "from openai import OpenAI\n",
    "from tqdm.notebook import tqdm\n",
    "from google.genai import types\n",
    "from dotenv import load_dotenv"
   ]
  },
  {
   "cell_type": "code",
   "execution_count": 2,
   "metadata": {},
   "outputs": [],
   "source": [
    "ds = load_dataset(\"mrjunos/depression-reddit-cleaned\")\n",
    "train = ds[\"train\"]\n",
    "\n",
    "df = pd.DataFrame(train)"
   ]
  },
  {
   "cell_type": "code",
   "execution_count": 3,
   "metadata": {},
   "outputs": [],
   "source": [
    "load_dotenv()\n",
    "openrouter_client = OpenAI(base_url=\"https://openrouter.ai/api/v1\",api_key=os.getenv(\"OPENROUTER_API_KEY\"))"
   ]
  },
  {
   "cell_type": "code",
   "execution_count": 82,
   "metadata": {},
   "outputs": [],
   "source": [
    "def generate_prompt(input_text):\n",
    "    return f\"\"\"\n",
    "    You are a highly intelligent mental health professional tasked with identifying whether a given text exert from an individual shows signs of depression.\n",
    " You must use likert scale to rate the severity of the depression. The ranges are 0 to 4 with 0 being no depression, 1 being mild depression, 2 being moderate depression, 3 being severe depression, and 4 being extreme depression. You must also provide a brief explanation of why you rated the individual as such. \n",
    "Input:\n",
    "{input_text}\n",
    "Output:\n",
    "\"\"\""
   ]
  },
  {
   "cell_type": "code",
   "execution_count": 97,
   "metadata": {},
   "outputs": [],
   "source": [
    "def get_depression_severity_openrouter(df, model, num_samples=None):\n",
    "    \"\"\"\n",
    "    Process texts from dataframe and get depression severity ratings from OpenRouter\n",
    "    \n",
    "    Args:\n",
    "        df: DataFrame containing text data\n",
    "        model: Model name to use with OpenRouter\n",
    "        num_samples: Number of samples to process (default None to process all rows)\n",
    "    \n",
    "    Returns:\n",
    "        DataFrame with original data, severity ratings and explanations\n",
    "    \"\"\"\n",
    "    # Set num_samples to the total number of rows if None\n",
    "    if num_samples is None:\n",
    "        num_samples = df.shape[0]\n",
    "    \n",
    "    # Create a copy to avoid modifying the original dataframe\n",
    "    result_df = df.head(num_samples).copy()\n",
    "    \n",
    "    # Initialize columns if they don't exist\n",
    "    if 'severity_rating' not in result_df.columns:\n",
    "        result_df['severity_rating'] = None\n",
    "    if 'explanation' not in result_df.columns:\n",
    "        result_df['explanation'] = None\n",
    "\n",
    "    if model is None:\n",
    "        raise ValueError(\"Model name must be provided.\")\n",
    "    \n",
    "    # Filter for rows that need processing (where severity_rating is None/NaN)\n",
    "    rows_to_process = result_df[result_df['severity_rating'].isna()].index\n",
    "    \n",
    "    for idx in tqdm(rows_to_process, total=len(rows_to_process), \n",
    "                   desc=\"Processing samples\"):\n",
    "        text = result_df.loc[idx, 'text']\n",
    "        prompt = generate_prompt(text)\n",
    "        \n",
    "        try:\n",
    "            response = openrouter_client.chat.completions.create(\n",
    "                model=model,\n",
    "                messages=[\n",
    "                    {\n",
    "                        \"role\": \"system\",\n",
    "                        \"content\": \"You are a highly intelligent mental health professional tasked with identifying whether a given text exert from an individual shows signs of depression.\"\n",
    "                    },\n",
    "                    {\n",
    "                        \"role\": \"user\",\n",
    "                        \"content\": prompt\n",
    "                    }\n",
    "                ]\n",
    "            )\n",
    "            result = response.choices[0].message.content\n",
    "            \n",
    "            # Try to extract rating and explanation\n",
    "            try:\n",
    "                # Assuming the response is formatted with a numerical rating followed by explanation\n",
    "                lines = result.strip().split('\\n')\n",
    "                rating_text = next((line for line in lines if any(str(i) in line for i in range(5))), '')\n",
    "                rating = next((int(i) for i in range(5) if str(i) in rating_text), None)\n",
    "                \n",
    "                # Get explanation (everything after the rating)\n",
    "                explanation = '\\n'.join(lines[lines.index(rating_text) + 1:]) if rating_text in lines else result\n",
    "                \n",
    "                result_df.at[idx, 'severity_rating'] = rating\n",
    "                result_df.at[idx, 'explanation'] = explanation.strip()\n",
    "            except:\n",
    "                # If parsing fails, store the full response in explanation\n",
    "                result_df.at[idx, 'severity_rating'] = None\n",
    "                result_df.at[idx, 'explanation'] = result\n",
    "                \n",
    "            # Only apply rate limiting for larger sample sizes\n",
    "            if len(rows_to_process) > 20:\n",
    "                time.sleep(3)  # Rate limiting\n",
    "        except Exception as e:\n",
    "            print(f\"Error processing sample {idx}: {e}\")\n",
    "            result_df.at[idx, 'severity_rating'] = None\n",
    "            result_df.at[idx, 'explanation'] = f\"Error: {str(e)}\"\n",
    "    \n",
    "    return result_df\n"
   ]
  },
  {
   "cell_type": "code",
   "execution_count": 63,
   "metadata": {},
   "outputs": [],
   "source": [
    "def cleanup_df(df):\n",
    "    \"\"\"\n",
    "    Clean up the DataFrame by removing rows with NaN values in 'severity_rating' and 'explanation' columns.\n",
    "\n",
    "    Args:\n",
    "        df: DataFrame to clean.\n",
    "\n",
    "    Returns:\n",
    "        Cleaned DataFrame.\n",
    "    \"\"\"\n",
    "    cleanup_df = df.copy()\n",
    "    # Replace NaN wih '' in 'severity_rating' and 'explanation' columns\n",
    "    # Also, remove error messages from 'explanation' column and replace with ''\n",
    "    # More efficient way to handle missing values using fillna\n",
    "    # Handle NaN values in severity_rating column\n",
    "    cleanup_df['severity_rating'] = cleanup_df['severity_rating'].fillna('')\n",
    "    cleanup_df['explanation'] = cleanup_df['explanation'].fillna('')\n",
    "    \n",
    "    # Convert empty strings back to NaN for severity_rating if we need it as numeric later\n",
    "    # This is needed because the next part of the function tries to convert to numeric\n",
    "    mask = cleanup_df['severity_rating'] == ''\n",
    "    cleanup_df.loc[mask, 'severity_rating'] = np.nan\n",
    "    # Use a more robust pattern matching approach for error messages\n",
    "    error_patterns = ['API Error:', 'Parsing Error:']\n",
    "    \n",
    "    # Process each error pattern and replace it\n",
    "    for pattern in error_patterns:\n",
    "        mask = cleanup_df['explanation'].str.contains(pattern, na=False)\n",
    "        #replace entire explanation with '' if error pattern is found\n",
    "        cleanup_df.loc[mask, 'explanation'] = ''\n",
    "    \n",
    "    # Also handle missing values and convert severity_rating to proper numeric format where possible\n",
    "    cleanup_df['severity_rating'] = pd.to_numeric(cleanup_df['severity_rating'], errors='coerce')\n",
    "    return cleanup_df"
   ]
  },
  {
   "cell_type": "code",
   "execution_count": 84,
   "metadata": {},
   "outputs": [],
   "source": [
    "ds_df = pd.read_csv(\"data/deepseek_extra_rows_500-1.csv\")"
   ]
  },
  {
   "cell_type": "code",
   "execution_count": 85,
   "metadata": {},
   "outputs": [],
   "source": [
    "ds_df = cleanup_df(ds_df)"
   ]
  },
  {
   "cell_type": "code",
   "execution_count": 92,
   "metadata": {},
   "outputs": [
    {
     "data": {
      "text/html": [
       "<div>\n",
       "<style scoped>\n",
       "    .dataframe tbody tr th:only-of-type {\n",
       "        vertical-align: middle;\n",
       "    }\n",
       "\n",
       "    .dataframe tbody tr th {\n",
       "        vertical-align: top;\n",
       "    }\n",
       "\n",
       "    .dataframe thead th {\n",
       "        text-align: right;\n",
       "    }\n",
       "</style>\n",
       "<table border=\"1\" class=\"dataframe\">\n",
       "  <thead>\n",
       "    <tr style=\"text-align: right;\">\n",
       "      <th></th>\n",
       "      <th>text</th>\n",
       "      <th>label</th>\n",
       "    </tr>\n",
       "  </thead>\n",
       "  <tbody>\n",
       "    <tr>\n",
       "      <th>379</th>\n",
       "      <td>had the worst dream abt some turd face ex ugh ...</td>\n",
       "      <td>0</td>\n",
       "    </tr>\n",
       "    <tr>\n",
       "      <th>380</th>\n",
       "      <td>i posted on the self harm sub a to why you can...</td>\n",
       "      <td>1</td>\n",
       "    </tr>\n",
       "    <tr>\n",
       "      <th>381</th>\n",
       "      <td>not regularly but sometimes i experience an ex...</td>\n",
       "      <td>1</td>\n",
       "    </tr>\n",
       "    <tr>\n",
       "      <th>382</th>\n",
       "      <td>simon felice is no longer playing with the fel...</td>\n",
       "      <td>0</td>\n",
       "    </tr>\n",
       "    <tr>\n",
       "      <th>383</th>\n",
       "      <td>nobody ever speaks to me now</td>\n",
       "      <td>0</td>\n",
       "    </tr>\n",
       "  </tbody>\n",
       "</table>\n",
       "</div>"
      ],
      "text/plain": [
       "                                                  text  label\n",
       "379  had the worst dream abt some turd face ex ugh ...      0\n",
       "380  i posted on the self harm sub a to why you can...      1\n",
       "381  not regularly but sometimes i experience an ex...      1\n",
       "382  simon felice is no longer playing with the fel...      0\n",
       "383                       nobody ever speaks to me now      0"
      ]
     },
     "execution_count": 92,
     "metadata": {},
     "output_type": "execute_result"
    }
   ],
   "source": [
    "ds_df['severity_rating'] = ds_df['severity_rating'].fillna('')\n",
    "\n",
    "# get rows with '' in severity_rating  and explanation columns and save to new dataframe\n",
    "missing_df = ds_df[(ds_df['severity_rating'] == '') & (ds_df['explanation'] == '')]\n",
    "# drop severity_rating and explanation columns from missing_df\n",
    "missing_df = missing_df.drop(columns=['severity_rating', 'explanation'])\n",
    "missing_df.head()"
   ]
  },
  {
   "cell_type": "code",
   "execution_count": 96,
   "metadata": {},
   "outputs": [],
   "source": [
    "missing_df.to_csv(\"data/missing_df.csv\", index=False)"
   ]
  },
  {
   "cell_type": "code",
   "execution_count": 95,
   "metadata": {},
   "outputs": [
    {
     "data": {
      "application/vnd.jupyter.widget-view+json": {
       "model_id": "817a1f7ddd694d64ac152b63af97031e",
       "version_major": 2,
       "version_minor": 0
      },
      "text/plain": [
       "Processing samples:   0%|          | 0/121 [00:00<?, ?it/s]"
      ]
     },
     "metadata": {},
     "output_type": "display_data"
    },
    {
     "name": "stderr",
     "output_type": "stream",
     "text": [
      "2025-04-02 02:57:57,167 - INFO - HTTP Request: POST https://openrouter.ai/api/v1/chat/completions \"HTTP/1.1 200 OK\"\n",
      "2025-04-02 02:57:57,696 - INFO - HTTP Request: POST https://openrouter.ai/api/v1/chat/completions \"HTTP/1.1 200 OK\"\n"
     ]
    },
    {
     "name": "stdout",
     "output_type": "stream",
     "text": [
      "Error processing sample 379: 'NoneType' object is not subscriptable\n"
     ]
    },
    {
     "name": "stderr",
     "output_type": "stream",
     "text": [
      "2025-04-02 02:57:58,213 - INFO - HTTP Request: POST https://openrouter.ai/api/v1/chat/completions \"HTTP/1.1 200 OK\"\n"
     ]
    },
    {
     "name": "stdout",
     "output_type": "stream",
     "text": [
      "Error processing sample 380: 'NoneType' object is not subscriptable\n"
     ]
    },
    {
     "name": "stderr",
     "output_type": "stream",
     "text": [
      "2025-04-02 02:57:58,814 - INFO - HTTP Request: POST https://openrouter.ai/api/v1/chat/completions \"HTTP/1.1 200 OK\"\n"
     ]
    },
    {
     "name": "stdout",
     "output_type": "stream",
     "text": [
      "Error processing sample 381: 'NoneType' object is not subscriptable\n"
     ]
    },
    {
     "name": "stderr",
     "output_type": "stream",
     "text": [
      "2025-04-02 02:57:59,319 - INFO - HTTP Request: POST https://openrouter.ai/api/v1/chat/completions \"HTTP/1.1 200 OK\"\n"
     ]
    },
    {
     "name": "stdout",
     "output_type": "stream",
     "text": [
      "Error processing sample 382: 'NoneType' object is not subscriptable\n"
     ]
    },
    {
     "name": "stderr",
     "output_type": "stream",
     "text": [
      "2025-04-02 02:57:59,833 - INFO - HTTP Request: POST https://openrouter.ai/api/v1/chat/completions \"HTTP/1.1 200 OK\"\n"
     ]
    },
    {
     "name": "stdout",
     "output_type": "stream",
     "text": [
      "Error processing sample 383: 'NoneType' object is not subscriptable\n"
     ]
    },
    {
     "name": "stderr",
     "output_type": "stream",
     "text": [
      "2025-04-02 02:58:00,342 - INFO - HTTP Request: POST https://openrouter.ai/api/v1/chat/completions \"HTTP/1.1 200 OK\"\n"
     ]
    },
    {
     "name": "stdout",
     "output_type": "stream",
     "text": [
      "Error processing sample 384: 'NoneType' object is not subscriptable\n"
     ]
    },
    {
     "name": "stderr",
     "output_type": "stream",
     "text": [
      "2025-04-02 02:58:00,880 - INFO - HTTP Request: POST https://openrouter.ai/api/v1/chat/completions \"HTTP/1.1 200 OK\"\n"
     ]
    },
    {
     "name": "stdout",
     "output_type": "stream",
     "text": [
      "Error processing sample 385: 'NoneType' object is not subscriptable\n"
     ]
    },
    {
     "name": "stderr",
     "output_type": "stream",
     "text": [
      "2025-04-02 02:58:01,381 - INFO - HTTP Request: POST https://openrouter.ai/api/v1/chat/completions \"HTTP/1.1 200 OK\"\n"
     ]
    },
    {
     "name": "stdout",
     "output_type": "stream",
     "text": [
      "Error processing sample 386: 'NoneType' object is not subscriptable\n"
     ]
    },
    {
     "name": "stderr",
     "output_type": "stream",
     "text": [
      "2025-04-02 02:58:01,881 - INFO - HTTP Request: POST https://openrouter.ai/api/v1/chat/completions \"HTTP/1.1 200 OK\"\n"
     ]
    },
    {
     "name": "stdout",
     "output_type": "stream",
     "text": [
      "Error processing sample 387: 'NoneType' object is not subscriptable\n"
     ]
    },
    {
     "name": "stderr",
     "output_type": "stream",
     "text": [
      "2025-04-02 02:58:02,404 - INFO - HTTP Request: POST https://openrouter.ai/api/v1/chat/completions \"HTTP/1.1 200 OK\"\n"
     ]
    },
    {
     "name": "stdout",
     "output_type": "stream",
     "text": [
      "Error processing sample 388: 'NoneType' object is not subscriptable\n"
     ]
    },
    {
     "name": "stderr",
     "output_type": "stream",
     "text": [
      "2025-04-02 02:58:02,910 - INFO - HTTP Request: POST https://openrouter.ai/api/v1/chat/completions \"HTTP/1.1 200 OK\"\n"
     ]
    },
    {
     "name": "stdout",
     "output_type": "stream",
     "text": [
      "Error processing sample 389: 'NoneType' object is not subscriptable\n"
     ]
    },
    {
     "name": "stderr",
     "output_type": "stream",
     "text": [
      "2025-04-02 02:58:03,419 - INFO - HTTP Request: POST https://openrouter.ai/api/v1/chat/completions \"HTTP/1.1 200 OK\"\n"
     ]
    },
    {
     "name": "stdout",
     "output_type": "stream",
     "text": [
      "Error processing sample 390: 'NoneType' object is not subscriptable\n"
     ]
    },
    {
     "name": "stderr",
     "output_type": "stream",
     "text": [
      "2025-04-02 02:58:04,028 - INFO - HTTP Request: POST https://openrouter.ai/api/v1/chat/completions \"HTTP/1.1 200 OK\"\n"
     ]
    },
    {
     "name": "stdout",
     "output_type": "stream",
     "text": [
      "Error processing sample 391: 'NoneType' object is not subscriptable\n"
     ]
    },
    {
     "name": "stderr",
     "output_type": "stream",
     "text": [
      "2025-04-02 02:58:04,553 - INFO - HTTP Request: POST https://openrouter.ai/api/v1/chat/completions \"HTTP/1.1 200 OK\"\n"
     ]
    },
    {
     "name": "stdout",
     "output_type": "stream",
     "text": [
      "Error processing sample 392: 'NoneType' object is not subscriptable\n"
     ]
    },
    {
     "name": "stderr",
     "output_type": "stream",
     "text": [
      "2025-04-02 02:58:05,156 - INFO - HTTP Request: POST https://openrouter.ai/api/v1/chat/completions \"HTTP/1.1 200 OK\"\n"
     ]
    },
    {
     "name": "stdout",
     "output_type": "stream",
     "text": [
      "Error processing sample 393: 'NoneType' object is not subscriptable\n"
     ]
    },
    {
     "name": "stderr",
     "output_type": "stream",
     "text": [
      "2025-04-02 02:58:05,679 - INFO - HTTP Request: POST https://openrouter.ai/api/v1/chat/completions \"HTTP/1.1 200 OK\"\n"
     ]
    },
    {
     "name": "stdout",
     "output_type": "stream",
     "text": [
      "Error processing sample 394: 'NoneType' object is not subscriptable\n"
     ]
    },
    {
     "name": "stderr",
     "output_type": "stream",
     "text": [
      "2025-04-02 02:58:06,284 - INFO - HTTP Request: POST https://openrouter.ai/api/v1/chat/completions \"HTTP/1.1 200 OK\"\n"
     ]
    },
    {
     "name": "stdout",
     "output_type": "stream",
     "text": [
      "Error processing sample 395: 'NoneType' object is not subscriptable\n"
     ]
    },
    {
     "name": "stderr",
     "output_type": "stream",
     "text": [
      "2025-04-02 02:58:06,792 - INFO - HTTP Request: POST https://openrouter.ai/api/v1/chat/completions \"HTTP/1.1 200 OK\"\n"
     ]
    },
    {
     "name": "stdout",
     "output_type": "stream",
     "text": [
      "Error processing sample 396: 'NoneType' object is not subscriptable\n"
     ]
    },
    {
     "name": "stderr",
     "output_type": "stream",
     "text": [
      "2025-04-02 02:58:07,323 - INFO - HTTP Request: POST https://openrouter.ai/api/v1/chat/completions \"HTTP/1.1 200 OK\"\n"
     ]
    },
    {
     "name": "stdout",
     "output_type": "stream",
     "text": [
      "Error processing sample 397: 'NoneType' object is not subscriptable\n",
      "Error processing sample 398: 'NoneType' object is not subscriptable\n"
     ]
    },
    {
     "name": "stderr",
     "output_type": "stream",
     "text": [
      "2025-04-02 02:58:07,970 - INFO - HTTP Request: POST https://openrouter.ai/api/v1/chat/completions \"HTTP/1.1 200 OK\"\n",
      "2025-04-02 02:58:08,534 - INFO - HTTP Request: POST https://openrouter.ai/api/v1/chat/completions \"HTTP/1.1 200 OK\"\n"
     ]
    },
    {
     "name": "stdout",
     "output_type": "stream",
     "text": [
      "Error processing sample 399: 'NoneType' object is not subscriptable\n"
     ]
    },
    {
     "name": "stderr",
     "output_type": "stream",
     "text": [
      "2025-04-02 02:58:09,060 - INFO - HTTP Request: POST https://openrouter.ai/api/v1/chat/completions \"HTTP/1.1 200 OK\"\n"
     ]
    },
    {
     "name": "stdout",
     "output_type": "stream",
     "text": [
      "Error processing sample 400: 'NoneType' object is not subscriptable\n"
     ]
    },
    {
     "name": "stderr",
     "output_type": "stream",
     "text": [
      "2025-04-02 02:58:09,559 - INFO - HTTP Request: POST https://openrouter.ai/api/v1/chat/completions \"HTTP/1.1 200 OK\"\n"
     ]
    },
    {
     "name": "stdout",
     "output_type": "stream",
     "text": [
      "Error processing sample 401: 'NoneType' object is not subscriptable\n"
     ]
    },
    {
     "name": "stderr",
     "output_type": "stream",
     "text": [
      "2025-04-02 02:58:10,074 - INFO - HTTP Request: POST https://openrouter.ai/api/v1/chat/completions \"HTTP/1.1 200 OK\"\n"
     ]
    },
    {
     "name": "stdout",
     "output_type": "stream",
     "text": [
      "Error processing sample 402: 'NoneType' object is not subscriptable\n"
     ]
    },
    {
     "name": "stderr",
     "output_type": "stream",
     "text": [
      "2025-04-02 02:58:10,582 - INFO - HTTP Request: POST https://openrouter.ai/api/v1/chat/completions \"HTTP/1.1 200 OK\"\n"
     ]
    },
    {
     "name": "stdout",
     "output_type": "stream",
     "text": [
      "Error processing sample 403: 'NoneType' object is not subscriptable\n"
     ]
    },
    {
     "name": "stderr",
     "output_type": "stream",
     "text": [
      "2025-04-02 02:58:11,081 - INFO - HTTP Request: POST https://openrouter.ai/api/v1/chat/completions \"HTTP/1.1 200 OK\"\n"
     ]
    },
    {
     "name": "stdout",
     "output_type": "stream",
     "text": [
      "Error processing sample 404: 'NoneType' object is not subscriptable\n"
     ]
    },
    {
     "name": "stderr",
     "output_type": "stream",
     "text": [
      "2025-04-02 02:58:11,614 - INFO - HTTP Request: POST https://openrouter.ai/api/v1/chat/completions \"HTTP/1.1 200 OK\"\n"
     ]
    },
    {
     "name": "stdout",
     "output_type": "stream",
     "text": [
      "Error processing sample 405: 'NoneType' object is not subscriptable\n"
     ]
    },
    {
     "name": "stderr",
     "output_type": "stream",
     "text": [
      "2025-04-02 02:58:12,126 - INFO - HTTP Request: POST https://openrouter.ai/api/v1/chat/completions \"HTTP/1.1 200 OK\"\n"
     ]
    },
    {
     "name": "stdout",
     "output_type": "stream",
     "text": [
      "Error processing sample 406: 'NoneType' object is not subscriptable\n"
     ]
    },
    {
     "ename": "KeyboardInterrupt",
     "evalue": "",
     "output_type": "error",
     "traceback": [
      "\u001b[1;31m---------------------------------------------------------------------------\u001b[0m",
      "\u001b[1;31mKeyboardInterrupt\u001b[0m                         Traceback (most recent call last)",
      "Cell \u001b[1;32mIn[95], line 1\u001b[0m\n\u001b[1;32m----> 1\u001b[0m bruh \u001b[38;5;241m=\u001b[39m \u001b[43mget_depression_severity_openrouter\u001b[49m\u001b[43m(\u001b[49m\n\u001b[0;32m      2\u001b[0m \u001b[43m    \u001b[49m\u001b[43mmissing_df\u001b[49m\u001b[43m,\u001b[49m\n\u001b[0;32m      3\u001b[0m \u001b[43m    \u001b[49m\u001b[43mmodel\u001b[49m\u001b[38;5;241;43m=\u001b[39;49m\u001b[38;5;124;43m\"\u001b[39;49m\u001b[38;5;124;43mdeepseek/deepseek-chat:free\u001b[39;49m\u001b[38;5;124;43m\"\u001b[39;49m\u001b[43m,\u001b[49m\n\u001b[0;32m      4\u001b[0m \u001b[43m    \u001b[49m\u001b[43mnum_samples\u001b[49m\u001b[38;5;241;43m=\u001b[39;49m\u001b[43mmissing_df\u001b[49m\u001b[38;5;241;43m.\u001b[39;49m\u001b[43mshape\u001b[49m\u001b[43m[\u001b[49m\u001b[38;5;241;43m0\u001b[39;49m\u001b[43m]\u001b[49m\u001b[43m  \u001b[49m\u001b[38;5;66;43;03m# Process all rows in the DataFrame\u001b[39;49;00m\n\u001b[0;32m      5\u001b[0m \u001b[43m)\u001b[49m\n\u001b[0;32m      6\u001b[0m bruh\u001b[38;5;241m.\u001b[39mto_csv(\u001b[38;5;124m\"\u001b[39m\u001b[38;5;124mdata/2-deepseek_extra_rows_500.csv\u001b[39m\u001b[38;5;124m\"\u001b[39m, index\u001b[38;5;241m=\u001b[39m\u001b[38;5;28;01mFalse\u001b[39;00m)\n",
      "Cell \u001b[1;32mIn[94], line 31\u001b[0m, in \u001b[0;36mget_depression_severity_openrouter\u001b[1;34m(df, model, num_samples)\u001b[0m\n\u001b[0;32m     25\u001b[0m \u001b[38;5;66;03m# Count words and characters\u001b[39;00m\n\u001b[0;32m     26\u001b[0m \u001b[38;5;66;03m# num_words = len(str(text).split())\u001b[39;00m\n\u001b[0;32m     27\u001b[0m \u001b[38;5;66;03m# num_characters = len(str(text))\u001b[39;00m\n\u001b[0;32m     28\u001b[0m \u001b[38;5;66;03m# print(f\"Sample {idx}: {num_words} words and {num_characters} characters\")\u001b[39;00m\n\u001b[0;32m     30\u001b[0m \u001b[38;5;28;01mtry\u001b[39;00m:\n\u001b[1;32m---> 31\u001b[0m     response \u001b[38;5;241m=\u001b[39m \u001b[43mopenrouter_client\u001b[49m\u001b[38;5;241;43m.\u001b[39;49m\u001b[43mchat\u001b[49m\u001b[38;5;241;43m.\u001b[39;49m\u001b[43mcompletions\u001b[49m\u001b[38;5;241;43m.\u001b[39;49m\u001b[43mcreate\u001b[49m\u001b[43m(\u001b[49m\n\u001b[0;32m     32\u001b[0m \u001b[43m        \u001b[49m\u001b[43mmodel\u001b[49m\u001b[38;5;241;43m=\u001b[39;49m\u001b[43mmodel\u001b[49m\u001b[43m,\u001b[49m\n\u001b[0;32m     33\u001b[0m \u001b[43m        \u001b[49m\u001b[43mmessages\u001b[49m\u001b[38;5;241;43m=\u001b[39;49m\u001b[43m[\u001b[49m\n\u001b[0;32m     34\u001b[0m \u001b[43m            \u001b[49m\u001b[43m{\u001b[49m\n\u001b[0;32m     35\u001b[0m \u001b[43m                \u001b[49m\u001b[38;5;124;43m\"\u001b[39;49m\u001b[38;5;124;43mrole\u001b[39;49m\u001b[38;5;124;43m\"\u001b[39;49m\u001b[43m:\u001b[49m\u001b[43m \u001b[49m\u001b[38;5;124;43m\"\u001b[39;49m\u001b[38;5;124;43msystem\u001b[39;49m\u001b[38;5;124;43m\"\u001b[39;49m\u001b[43m,\u001b[49m\n\u001b[0;32m     36\u001b[0m \u001b[43m                \u001b[49m\u001b[38;5;124;43m\"\u001b[39;49m\u001b[38;5;124;43mcontent\u001b[39;49m\u001b[38;5;124;43m\"\u001b[39;49m\u001b[43m:\u001b[49m\u001b[43m \u001b[49m\u001b[38;5;124;43m\"\u001b[39;49m\u001b[38;5;124;43mYou are a highly intelligent mental health professional tasked with identifying whether a given text exert from an individual shows signs of depression.\u001b[39;49m\u001b[38;5;124;43m\"\u001b[39;49m\n\u001b[0;32m     37\u001b[0m \u001b[43m            \u001b[49m\u001b[43m}\u001b[49m\u001b[43m,\u001b[49m\n\u001b[0;32m     38\u001b[0m \u001b[43m            \u001b[49m\u001b[43m{\u001b[49m\n\u001b[0;32m     39\u001b[0m \u001b[43m                \u001b[49m\u001b[38;5;124;43m\"\u001b[39;49m\u001b[38;5;124;43mrole\u001b[39;49m\u001b[38;5;124;43m\"\u001b[39;49m\u001b[43m:\u001b[49m\u001b[43m \u001b[49m\u001b[38;5;124;43m\"\u001b[39;49m\u001b[38;5;124;43muser\u001b[39;49m\u001b[38;5;124;43m\"\u001b[39;49m\u001b[43m,\u001b[49m\n\u001b[0;32m     40\u001b[0m \u001b[43m                \u001b[49m\u001b[38;5;124;43m\"\u001b[39;49m\u001b[38;5;124;43mcontent\u001b[39;49m\u001b[38;5;124;43m\"\u001b[39;49m\u001b[43m:\u001b[49m\u001b[43m \u001b[49m\u001b[43mprompt\u001b[49m\n\u001b[0;32m     41\u001b[0m \u001b[43m            \u001b[49m\u001b[43m}\u001b[49m\n\u001b[0;32m     42\u001b[0m \u001b[43m        \u001b[49m\u001b[43m]\u001b[49m\n\u001b[0;32m     43\u001b[0m \u001b[43m    \u001b[49m\u001b[43m)\u001b[49m\n\u001b[0;32m     44\u001b[0m     result \u001b[38;5;241m=\u001b[39m response\u001b[38;5;241m.\u001b[39mchoices[\u001b[38;5;241m0\u001b[39m]\u001b[38;5;241m.\u001b[39mmessage\u001b[38;5;241m.\u001b[39mcontent\n\u001b[0;32m     45\u001b[0m     \u001b[38;5;66;03m# print(result)  # test first\u001b[39;00m\n\u001b[0;32m     46\u001b[0m     \n\u001b[0;32m     47\u001b[0m     \u001b[38;5;66;03m# Try to extract rating and explanation\u001b[39;00m\n",
      "File \u001b[1;32mc:\\Users\\User\\Documents\\Honours\\venv\\Lib\\site-packages\\openai\\_utils\\_utils.py:279\u001b[0m, in \u001b[0;36mrequired_args.<locals>.inner.<locals>.wrapper\u001b[1;34m(*args, **kwargs)\u001b[0m\n\u001b[0;32m    277\u001b[0m             msg \u001b[38;5;241m=\u001b[39m \u001b[38;5;124mf\u001b[39m\u001b[38;5;124m\"\u001b[39m\u001b[38;5;124mMissing required argument: \u001b[39m\u001b[38;5;132;01m{\u001b[39;00mquote(missing[\u001b[38;5;241m0\u001b[39m])\u001b[38;5;132;01m}\u001b[39;00m\u001b[38;5;124m\"\u001b[39m\n\u001b[0;32m    278\u001b[0m     \u001b[38;5;28;01mraise\u001b[39;00m \u001b[38;5;167;01mTypeError\u001b[39;00m(msg)\n\u001b[1;32m--> 279\u001b[0m \u001b[38;5;28;01mreturn\u001b[39;00m \u001b[43mfunc\u001b[49m\u001b[43m(\u001b[49m\u001b[38;5;241;43m*\u001b[39;49m\u001b[43margs\u001b[49m\u001b[43m,\u001b[49m\u001b[43m \u001b[49m\u001b[38;5;241;43m*\u001b[39;49m\u001b[38;5;241;43m*\u001b[39;49m\u001b[43mkwargs\u001b[49m\u001b[43m)\u001b[49m\n",
      "File \u001b[1;32mc:\\Users\\User\\Documents\\Honours\\venv\\Lib\\site-packages\\openai\\resources\\chat\\completions\\completions.py:879\u001b[0m, in \u001b[0;36mCompletions.create\u001b[1;34m(self, messages, model, audio, frequency_penalty, function_call, functions, logit_bias, logprobs, max_completion_tokens, max_tokens, metadata, modalities, n, parallel_tool_calls, prediction, presence_penalty, reasoning_effort, response_format, seed, service_tier, stop, store, stream, stream_options, temperature, tool_choice, tools, top_logprobs, top_p, user, extra_headers, extra_query, extra_body, timeout)\u001b[0m\n\u001b[0;32m    837\u001b[0m \u001b[38;5;129m@required_args\u001b[39m([\u001b[38;5;124m\"\u001b[39m\u001b[38;5;124mmessages\u001b[39m\u001b[38;5;124m\"\u001b[39m, \u001b[38;5;124m\"\u001b[39m\u001b[38;5;124mmodel\u001b[39m\u001b[38;5;124m\"\u001b[39m], [\u001b[38;5;124m\"\u001b[39m\u001b[38;5;124mmessages\u001b[39m\u001b[38;5;124m\"\u001b[39m, \u001b[38;5;124m\"\u001b[39m\u001b[38;5;124mmodel\u001b[39m\u001b[38;5;124m\"\u001b[39m, \u001b[38;5;124m\"\u001b[39m\u001b[38;5;124mstream\u001b[39m\u001b[38;5;124m\"\u001b[39m])\n\u001b[0;32m    838\u001b[0m \u001b[38;5;28;01mdef\u001b[39;00m\u001b[38;5;250m \u001b[39m\u001b[38;5;21mcreate\u001b[39m(\n\u001b[0;32m    839\u001b[0m     \u001b[38;5;28mself\u001b[39m,\n\u001b[1;32m   (...)\u001b[0m\n\u001b[0;32m    876\u001b[0m     timeout: \u001b[38;5;28mfloat\u001b[39m \u001b[38;5;241m|\u001b[39m httpx\u001b[38;5;241m.\u001b[39mTimeout \u001b[38;5;241m|\u001b[39m \u001b[38;5;28;01mNone\u001b[39;00m \u001b[38;5;241m|\u001b[39m NotGiven \u001b[38;5;241m=\u001b[39m NOT_GIVEN,\n\u001b[0;32m    877\u001b[0m ) \u001b[38;5;241m-\u001b[39m\u001b[38;5;241m>\u001b[39m ChatCompletion \u001b[38;5;241m|\u001b[39m Stream[ChatCompletionChunk]:\n\u001b[0;32m    878\u001b[0m     validate_response_format(response_format)\n\u001b[1;32m--> 879\u001b[0m     \u001b[38;5;28;01mreturn\u001b[39;00m \u001b[38;5;28;43mself\u001b[39;49m\u001b[38;5;241;43m.\u001b[39;49m\u001b[43m_post\u001b[49m\u001b[43m(\u001b[49m\n\u001b[0;32m    880\u001b[0m \u001b[43m        \u001b[49m\u001b[38;5;124;43m\"\u001b[39;49m\u001b[38;5;124;43m/chat/completions\u001b[39;49m\u001b[38;5;124;43m\"\u001b[39;49m\u001b[43m,\u001b[49m\n\u001b[0;32m    881\u001b[0m \u001b[43m        \u001b[49m\u001b[43mbody\u001b[49m\u001b[38;5;241;43m=\u001b[39;49m\u001b[43mmaybe_transform\u001b[49m\u001b[43m(\u001b[49m\n\u001b[0;32m    882\u001b[0m \u001b[43m            \u001b[49m\u001b[43m{\u001b[49m\n\u001b[0;32m    883\u001b[0m \u001b[43m                \u001b[49m\u001b[38;5;124;43m\"\u001b[39;49m\u001b[38;5;124;43mmessages\u001b[39;49m\u001b[38;5;124;43m\"\u001b[39;49m\u001b[43m:\u001b[49m\u001b[43m \u001b[49m\u001b[43mmessages\u001b[49m\u001b[43m,\u001b[49m\n\u001b[0;32m    884\u001b[0m \u001b[43m                \u001b[49m\u001b[38;5;124;43m\"\u001b[39;49m\u001b[38;5;124;43mmodel\u001b[39;49m\u001b[38;5;124;43m\"\u001b[39;49m\u001b[43m:\u001b[49m\u001b[43m \u001b[49m\u001b[43mmodel\u001b[49m\u001b[43m,\u001b[49m\n\u001b[0;32m    885\u001b[0m \u001b[43m                \u001b[49m\u001b[38;5;124;43m\"\u001b[39;49m\u001b[38;5;124;43maudio\u001b[39;49m\u001b[38;5;124;43m\"\u001b[39;49m\u001b[43m:\u001b[49m\u001b[43m \u001b[49m\u001b[43maudio\u001b[49m\u001b[43m,\u001b[49m\n\u001b[0;32m    886\u001b[0m \u001b[43m                \u001b[49m\u001b[38;5;124;43m\"\u001b[39;49m\u001b[38;5;124;43mfrequency_penalty\u001b[39;49m\u001b[38;5;124;43m\"\u001b[39;49m\u001b[43m:\u001b[49m\u001b[43m \u001b[49m\u001b[43mfrequency_penalty\u001b[49m\u001b[43m,\u001b[49m\n\u001b[0;32m    887\u001b[0m \u001b[43m                \u001b[49m\u001b[38;5;124;43m\"\u001b[39;49m\u001b[38;5;124;43mfunction_call\u001b[39;49m\u001b[38;5;124;43m\"\u001b[39;49m\u001b[43m:\u001b[49m\u001b[43m \u001b[49m\u001b[43mfunction_call\u001b[49m\u001b[43m,\u001b[49m\n\u001b[0;32m    888\u001b[0m \u001b[43m                \u001b[49m\u001b[38;5;124;43m\"\u001b[39;49m\u001b[38;5;124;43mfunctions\u001b[39;49m\u001b[38;5;124;43m\"\u001b[39;49m\u001b[43m:\u001b[49m\u001b[43m \u001b[49m\u001b[43mfunctions\u001b[49m\u001b[43m,\u001b[49m\n\u001b[0;32m    889\u001b[0m \u001b[43m                \u001b[49m\u001b[38;5;124;43m\"\u001b[39;49m\u001b[38;5;124;43mlogit_bias\u001b[39;49m\u001b[38;5;124;43m\"\u001b[39;49m\u001b[43m:\u001b[49m\u001b[43m \u001b[49m\u001b[43mlogit_bias\u001b[49m\u001b[43m,\u001b[49m\n\u001b[0;32m    890\u001b[0m \u001b[43m                \u001b[49m\u001b[38;5;124;43m\"\u001b[39;49m\u001b[38;5;124;43mlogprobs\u001b[39;49m\u001b[38;5;124;43m\"\u001b[39;49m\u001b[43m:\u001b[49m\u001b[43m \u001b[49m\u001b[43mlogprobs\u001b[49m\u001b[43m,\u001b[49m\n\u001b[0;32m    891\u001b[0m \u001b[43m                \u001b[49m\u001b[38;5;124;43m\"\u001b[39;49m\u001b[38;5;124;43mmax_completion_tokens\u001b[39;49m\u001b[38;5;124;43m\"\u001b[39;49m\u001b[43m:\u001b[49m\u001b[43m \u001b[49m\u001b[43mmax_completion_tokens\u001b[49m\u001b[43m,\u001b[49m\n\u001b[0;32m    892\u001b[0m \u001b[43m                \u001b[49m\u001b[38;5;124;43m\"\u001b[39;49m\u001b[38;5;124;43mmax_tokens\u001b[39;49m\u001b[38;5;124;43m\"\u001b[39;49m\u001b[43m:\u001b[49m\u001b[43m \u001b[49m\u001b[43mmax_tokens\u001b[49m\u001b[43m,\u001b[49m\n\u001b[0;32m    893\u001b[0m \u001b[43m                \u001b[49m\u001b[38;5;124;43m\"\u001b[39;49m\u001b[38;5;124;43mmetadata\u001b[39;49m\u001b[38;5;124;43m\"\u001b[39;49m\u001b[43m:\u001b[49m\u001b[43m \u001b[49m\u001b[43mmetadata\u001b[49m\u001b[43m,\u001b[49m\n\u001b[0;32m    894\u001b[0m \u001b[43m                \u001b[49m\u001b[38;5;124;43m\"\u001b[39;49m\u001b[38;5;124;43mmodalities\u001b[39;49m\u001b[38;5;124;43m\"\u001b[39;49m\u001b[43m:\u001b[49m\u001b[43m \u001b[49m\u001b[43mmodalities\u001b[49m\u001b[43m,\u001b[49m\n\u001b[0;32m    895\u001b[0m \u001b[43m                \u001b[49m\u001b[38;5;124;43m\"\u001b[39;49m\u001b[38;5;124;43mn\u001b[39;49m\u001b[38;5;124;43m\"\u001b[39;49m\u001b[43m:\u001b[49m\u001b[43m \u001b[49m\u001b[43mn\u001b[49m\u001b[43m,\u001b[49m\n\u001b[0;32m    896\u001b[0m \u001b[43m                \u001b[49m\u001b[38;5;124;43m\"\u001b[39;49m\u001b[38;5;124;43mparallel_tool_calls\u001b[39;49m\u001b[38;5;124;43m\"\u001b[39;49m\u001b[43m:\u001b[49m\u001b[43m \u001b[49m\u001b[43mparallel_tool_calls\u001b[49m\u001b[43m,\u001b[49m\n\u001b[0;32m    897\u001b[0m \u001b[43m                \u001b[49m\u001b[38;5;124;43m\"\u001b[39;49m\u001b[38;5;124;43mprediction\u001b[39;49m\u001b[38;5;124;43m\"\u001b[39;49m\u001b[43m:\u001b[49m\u001b[43m \u001b[49m\u001b[43mprediction\u001b[49m\u001b[43m,\u001b[49m\n\u001b[0;32m    898\u001b[0m \u001b[43m                \u001b[49m\u001b[38;5;124;43m\"\u001b[39;49m\u001b[38;5;124;43mpresence_penalty\u001b[39;49m\u001b[38;5;124;43m\"\u001b[39;49m\u001b[43m:\u001b[49m\u001b[43m \u001b[49m\u001b[43mpresence_penalty\u001b[49m\u001b[43m,\u001b[49m\n\u001b[0;32m    899\u001b[0m \u001b[43m                \u001b[49m\u001b[38;5;124;43m\"\u001b[39;49m\u001b[38;5;124;43mreasoning_effort\u001b[39;49m\u001b[38;5;124;43m\"\u001b[39;49m\u001b[43m:\u001b[49m\u001b[43m \u001b[49m\u001b[43mreasoning_effort\u001b[49m\u001b[43m,\u001b[49m\n\u001b[0;32m    900\u001b[0m \u001b[43m                \u001b[49m\u001b[38;5;124;43m\"\u001b[39;49m\u001b[38;5;124;43mresponse_format\u001b[39;49m\u001b[38;5;124;43m\"\u001b[39;49m\u001b[43m:\u001b[49m\u001b[43m \u001b[49m\u001b[43mresponse_format\u001b[49m\u001b[43m,\u001b[49m\n\u001b[0;32m    901\u001b[0m \u001b[43m                \u001b[49m\u001b[38;5;124;43m\"\u001b[39;49m\u001b[38;5;124;43mseed\u001b[39;49m\u001b[38;5;124;43m\"\u001b[39;49m\u001b[43m:\u001b[49m\u001b[43m \u001b[49m\u001b[43mseed\u001b[49m\u001b[43m,\u001b[49m\n\u001b[0;32m    902\u001b[0m \u001b[43m                \u001b[49m\u001b[38;5;124;43m\"\u001b[39;49m\u001b[38;5;124;43mservice_tier\u001b[39;49m\u001b[38;5;124;43m\"\u001b[39;49m\u001b[43m:\u001b[49m\u001b[43m \u001b[49m\u001b[43mservice_tier\u001b[49m\u001b[43m,\u001b[49m\n\u001b[0;32m    903\u001b[0m \u001b[43m                \u001b[49m\u001b[38;5;124;43m\"\u001b[39;49m\u001b[38;5;124;43mstop\u001b[39;49m\u001b[38;5;124;43m\"\u001b[39;49m\u001b[43m:\u001b[49m\u001b[43m \u001b[49m\u001b[43mstop\u001b[49m\u001b[43m,\u001b[49m\n\u001b[0;32m    904\u001b[0m \u001b[43m                \u001b[49m\u001b[38;5;124;43m\"\u001b[39;49m\u001b[38;5;124;43mstore\u001b[39;49m\u001b[38;5;124;43m\"\u001b[39;49m\u001b[43m:\u001b[49m\u001b[43m \u001b[49m\u001b[43mstore\u001b[49m\u001b[43m,\u001b[49m\n\u001b[0;32m    905\u001b[0m \u001b[43m                \u001b[49m\u001b[38;5;124;43m\"\u001b[39;49m\u001b[38;5;124;43mstream\u001b[39;49m\u001b[38;5;124;43m\"\u001b[39;49m\u001b[43m:\u001b[49m\u001b[43m \u001b[49m\u001b[43mstream\u001b[49m\u001b[43m,\u001b[49m\n\u001b[0;32m    906\u001b[0m \u001b[43m                \u001b[49m\u001b[38;5;124;43m\"\u001b[39;49m\u001b[38;5;124;43mstream_options\u001b[39;49m\u001b[38;5;124;43m\"\u001b[39;49m\u001b[43m:\u001b[49m\u001b[43m \u001b[49m\u001b[43mstream_options\u001b[49m\u001b[43m,\u001b[49m\n\u001b[0;32m    907\u001b[0m \u001b[43m                \u001b[49m\u001b[38;5;124;43m\"\u001b[39;49m\u001b[38;5;124;43mtemperature\u001b[39;49m\u001b[38;5;124;43m\"\u001b[39;49m\u001b[43m:\u001b[49m\u001b[43m \u001b[49m\u001b[43mtemperature\u001b[49m\u001b[43m,\u001b[49m\n\u001b[0;32m    908\u001b[0m \u001b[43m                \u001b[49m\u001b[38;5;124;43m\"\u001b[39;49m\u001b[38;5;124;43mtool_choice\u001b[39;49m\u001b[38;5;124;43m\"\u001b[39;49m\u001b[43m:\u001b[49m\u001b[43m \u001b[49m\u001b[43mtool_choice\u001b[49m\u001b[43m,\u001b[49m\n\u001b[0;32m    909\u001b[0m \u001b[43m                \u001b[49m\u001b[38;5;124;43m\"\u001b[39;49m\u001b[38;5;124;43mtools\u001b[39;49m\u001b[38;5;124;43m\"\u001b[39;49m\u001b[43m:\u001b[49m\u001b[43m \u001b[49m\u001b[43mtools\u001b[49m\u001b[43m,\u001b[49m\n\u001b[0;32m    910\u001b[0m \u001b[43m                \u001b[49m\u001b[38;5;124;43m\"\u001b[39;49m\u001b[38;5;124;43mtop_logprobs\u001b[39;49m\u001b[38;5;124;43m\"\u001b[39;49m\u001b[43m:\u001b[49m\u001b[43m \u001b[49m\u001b[43mtop_logprobs\u001b[49m\u001b[43m,\u001b[49m\n\u001b[0;32m    911\u001b[0m \u001b[43m                \u001b[49m\u001b[38;5;124;43m\"\u001b[39;49m\u001b[38;5;124;43mtop_p\u001b[39;49m\u001b[38;5;124;43m\"\u001b[39;49m\u001b[43m:\u001b[49m\u001b[43m \u001b[49m\u001b[43mtop_p\u001b[49m\u001b[43m,\u001b[49m\n\u001b[0;32m    912\u001b[0m \u001b[43m                \u001b[49m\u001b[38;5;124;43m\"\u001b[39;49m\u001b[38;5;124;43muser\u001b[39;49m\u001b[38;5;124;43m\"\u001b[39;49m\u001b[43m:\u001b[49m\u001b[43m \u001b[49m\u001b[43muser\u001b[49m\u001b[43m,\u001b[49m\n\u001b[0;32m    913\u001b[0m \u001b[43m            \u001b[49m\u001b[43m}\u001b[49m\u001b[43m,\u001b[49m\n\u001b[0;32m    914\u001b[0m \u001b[43m            \u001b[49m\u001b[43mcompletion_create_params\u001b[49m\u001b[38;5;241;43m.\u001b[39;49m\u001b[43mCompletionCreateParams\u001b[49m\u001b[43m,\u001b[49m\n\u001b[0;32m    915\u001b[0m \u001b[43m        \u001b[49m\u001b[43m)\u001b[49m\u001b[43m,\u001b[49m\n\u001b[0;32m    916\u001b[0m \u001b[43m        \u001b[49m\u001b[43moptions\u001b[49m\u001b[38;5;241;43m=\u001b[39;49m\u001b[43mmake_request_options\u001b[49m\u001b[43m(\u001b[49m\n\u001b[0;32m    917\u001b[0m \u001b[43m            \u001b[49m\u001b[43mextra_headers\u001b[49m\u001b[38;5;241;43m=\u001b[39;49m\u001b[43mextra_headers\u001b[49m\u001b[43m,\u001b[49m\u001b[43m \u001b[49m\u001b[43mextra_query\u001b[49m\u001b[38;5;241;43m=\u001b[39;49m\u001b[43mextra_query\u001b[49m\u001b[43m,\u001b[49m\u001b[43m \u001b[49m\u001b[43mextra_body\u001b[49m\u001b[38;5;241;43m=\u001b[39;49m\u001b[43mextra_body\u001b[49m\u001b[43m,\u001b[49m\u001b[43m \u001b[49m\u001b[43mtimeout\u001b[49m\u001b[38;5;241;43m=\u001b[39;49m\u001b[43mtimeout\u001b[49m\n\u001b[0;32m    918\u001b[0m \u001b[43m        \u001b[49m\u001b[43m)\u001b[49m\u001b[43m,\u001b[49m\n\u001b[0;32m    919\u001b[0m \u001b[43m        \u001b[49m\u001b[43mcast_to\u001b[49m\u001b[38;5;241;43m=\u001b[39;49m\u001b[43mChatCompletion\u001b[49m\u001b[43m,\u001b[49m\n\u001b[0;32m    920\u001b[0m \u001b[43m        \u001b[49m\u001b[43mstream\u001b[49m\u001b[38;5;241;43m=\u001b[39;49m\u001b[43mstream\u001b[49m\u001b[43m \u001b[49m\u001b[38;5;129;43;01mor\u001b[39;49;00m\u001b[43m \u001b[49m\u001b[38;5;28;43;01mFalse\u001b[39;49;00m\u001b[43m,\u001b[49m\n\u001b[0;32m    921\u001b[0m \u001b[43m        \u001b[49m\u001b[43mstream_cls\u001b[49m\u001b[38;5;241;43m=\u001b[39;49m\u001b[43mStream\u001b[49m\u001b[43m[\u001b[49m\u001b[43mChatCompletionChunk\u001b[49m\u001b[43m]\u001b[49m\u001b[43m,\u001b[49m\n\u001b[0;32m    922\u001b[0m \u001b[43m    \u001b[49m\u001b[43m)\u001b[49m\n",
      "File \u001b[1;32mc:\\Users\\User\\Documents\\Honours\\venv\\Lib\\site-packages\\openai\\_base_client.py:1290\u001b[0m, in \u001b[0;36mSyncAPIClient.post\u001b[1;34m(self, path, cast_to, body, options, files, stream, stream_cls)\u001b[0m\n\u001b[0;32m   1276\u001b[0m \u001b[38;5;28;01mdef\u001b[39;00m\u001b[38;5;250m \u001b[39m\u001b[38;5;21mpost\u001b[39m(\n\u001b[0;32m   1277\u001b[0m     \u001b[38;5;28mself\u001b[39m,\n\u001b[0;32m   1278\u001b[0m     path: \u001b[38;5;28mstr\u001b[39m,\n\u001b[1;32m   (...)\u001b[0m\n\u001b[0;32m   1285\u001b[0m     stream_cls: \u001b[38;5;28mtype\u001b[39m[_StreamT] \u001b[38;5;241m|\u001b[39m \u001b[38;5;28;01mNone\u001b[39;00m \u001b[38;5;241m=\u001b[39m \u001b[38;5;28;01mNone\u001b[39;00m,\n\u001b[0;32m   1286\u001b[0m ) \u001b[38;5;241m-\u001b[39m\u001b[38;5;241m>\u001b[39m ResponseT \u001b[38;5;241m|\u001b[39m _StreamT:\n\u001b[0;32m   1287\u001b[0m     opts \u001b[38;5;241m=\u001b[39m FinalRequestOptions\u001b[38;5;241m.\u001b[39mconstruct(\n\u001b[0;32m   1288\u001b[0m         method\u001b[38;5;241m=\u001b[39m\u001b[38;5;124m\"\u001b[39m\u001b[38;5;124mpost\u001b[39m\u001b[38;5;124m\"\u001b[39m, url\u001b[38;5;241m=\u001b[39mpath, json_data\u001b[38;5;241m=\u001b[39mbody, files\u001b[38;5;241m=\u001b[39mto_httpx_files(files), \u001b[38;5;241m*\u001b[39m\u001b[38;5;241m*\u001b[39moptions\n\u001b[0;32m   1289\u001b[0m     )\n\u001b[1;32m-> 1290\u001b[0m     \u001b[38;5;28;01mreturn\u001b[39;00m cast(ResponseT, \u001b[38;5;28;43mself\u001b[39;49m\u001b[38;5;241;43m.\u001b[39;49m\u001b[43mrequest\u001b[49m\u001b[43m(\u001b[49m\u001b[43mcast_to\u001b[49m\u001b[43m,\u001b[49m\u001b[43m \u001b[49m\u001b[43mopts\u001b[49m\u001b[43m,\u001b[49m\u001b[43m \u001b[49m\u001b[43mstream\u001b[49m\u001b[38;5;241;43m=\u001b[39;49m\u001b[43mstream\u001b[49m\u001b[43m,\u001b[49m\u001b[43m \u001b[49m\u001b[43mstream_cls\u001b[49m\u001b[38;5;241;43m=\u001b[39;49m\u001b[43mstream_cls\u001b[49m\u001b[43m)\u001b[49m)\n",
      "File \u001b[1;32mc:\\Users\\User\\Documents\\Honours\\venv\\Lib\\site-packages\\openai\\_base_client.py:967\u001b[0m, in \u001b[0;36mSyncAPIClient.request\u001b[1;34m(self, cast_to, options, remaining_retries, stream, stream_cls)\u001b[0m\n\u001b[0;32m    964\u001b[0m \u001b[38;5;28;01melse\u001b[39;00m:\n\u001b[0;32m    965\u001b[0m     retries_taken \u001b[38;5;241m=\u001b[39m \u001b[38;5;241m0\u001b[39m\n\u001b[1;32m--> 967\u001b[0m \u001b[38;5;28;01mreturn\u001b[39;00m \u001b[38;5;28;43mself\u001b[39;49m\u001b[38;5;241;43m.\u001b[39;49m\u001b[43m_request\u001b[49m\u001b[43m(\u001b[49m\n\u001b[0;32m    968\u001b[0m \u001b[43m    \u001b[49m\u001b[43mcast_to\u001b[49m\u001b[38;5;241;43m=\u001b[39;49m\u001b[43mcast_to\u001b[49m\u001b[43m,\u001b[49m\n\u001b[0;32m    969\u001b[0m \u001b[43m    \u001b[49m\u001b[43moptions\u001b[49m\u001b[38;5;241;43m=\u001b[39;49m\u001b[43moptions\u001b[49m\u001b[43m,\u001b[49m\n\u001b[0;32m    970\u001b[0m \u001b[43m    \u001b[49m\u001b[43mstream\u001b[49m\u001b[38;5;241;43m=\u001b[39;49m\u001b[43mstream\u001b[49m\u001b[43m,\u001b[49m\n\u001b[0;32m    971\u001b[0m \u001b[43m    \u001b[49m\u001b[43mstream_cls\u001b[49m\u001b[38;5;241;43m=\u001b[39;49m\u001b[43mstream_cls\u001b[49m\u001b[43m,\u001b[49m\n\u001b[0;32m    972\u001b[0m \u001b[43m    \u001b[49m\u001b[43mretries_taken\u001b[49m\u001b[38;5;241;43m=\u001b[39;49m\u001b[43mretries_taken\u001b[49m\u001b[43m,\u001b[49m\n\u001b[0;32m    973\u001b[0m \u001b[43m\u001b[49m\u001b[43m)\u001b[49m\n",
      "File \u001b[1;32mc:\\Users\\User\\Documents\\Honours\\venv\\Lib\\site-packages\\openai\\_base_client.py:1003\u001b[0m, in \u001b[0;36mSyncAPIClient._request\u001b[1;34m(self, cast_to, options, retries_taken, stream, stream_cls)\u001b[0m\n\u001b[0;32m   1000\u001b[0m log\u001b[38;5;241m.\u001b[39mdebug(\u001b[38;5;124m\"\u001b[39m\u001b[38;5;124mSending HTTP Request: \u001b[39m\u001b[38;5;132;01m%s\u001b[39;00m\u001b[38;5;124m \u001b[39m\u001b[38;5;132;01m%s\u001b[39;00m\u001b[38;5;124m\"\u001b[39m, request\u001b[38;5;241m.\u001b[39mmethod, request\u001b[38;5;241m.\u001b[39murl)\n\u001b[0;32m   1002\u001b[0m \u001b[38;5;28;01mtry\u001b[39;00m:\n\u001b[1;32m-> 1003\u001b[0m     response \u001b[38;5;241m=\u001b[39m \u001b[38;5;28;43mself\u001b[39;49m\u001b[38;5;241;43m.\u001b[39;49m\u001b[43m_client\u001b[49m\u001b[38;5;241;43m.\u001b[39;49m\u001b[43msend\u001b[49m\u001b[43m(\u001b[49m\n\u001b[0;32m   1004\u001b[0m \u001b[43m        \u001b[49m\u001b[43mrequest\u001b[49m\u001b[43m,\u001b[49m\n\u001b[0;32m   1005\u001b[0m \u001b[43m        \u001b[49m\u001b[43mstream\u001b[49m\u001b[38;5;241;43m=\u001b[39;49m\u001b[43mstream\u001b[49m\u001b[43m \u001b[49m\u001b[38;5;129;43;01mor\u001b[39;49;00m\u001b[43m \u001b[49m\u001b[38;5;28;43mself\u001b[39;49m\u001b[38;5;241;43m.\u001b[39;49m\u001b[43m_should_stream_response_body\u001b[49m\u001b[43m(\u001b[49m\u001b[43mrequest\u001b[49m\u001b[38;5;241;43m=\u001b[39;49m\u001b[43mrequest\u001b[49m\u001b[43m)\u001b[49m\u001b[43m,\u001b[49m\n\u001b[0;32m   1006\u001b[0m \u001b[43m        \u001b[49m\u001b[38;5;241;43m*\u001b[39;49m\u001b[38;5;241;43m*\u001b[39;49m\u001b[43mkwargs\u001b[49m\u001b[43m,\u001b[49m\n\u001b[0;32m   1007\u001b[0m \u001b[43m    \u001b[49m\u001b[43m)\u001b[49m\n\u001b[0;32m   1008\u001b[0m \u001b[38;5;28;01mexcept\u001b[39;00m httpx\u001b[38;5;241m.\u001b[39mTimeoutException \u001b[38;5;28;01mas\u001b[39;00m err:\n\u001b[0;32m   1009\u001b[0m     log\u001b[38;5;241m.\u001b[39mdebug(\u001b[38;5;124m\"\u001b[39m\u001b[38;5;124mEncountered httpx.TimeoutException\u001b[39m\u001b[38;5;124m\"\u001b[39m, exc_info\u001b[38;5;241m=\u001b[39m\u001b[38;5;28;01mTrue\u001b[39;00m)\n",
      "File \u001b[1;32mc:\\Users\\User\\Documents\\Honours\\venv\\Lib\\site-packages\\httpx\\_client.py:928\u001b[0m, in \u001b[0;36mClient.send\u001b[1;34m(self, request, stream, auth, follow_redirects)\u001b[0m\n\u001b[0;32m    926\u001b[0m \u001b[38;5;28;01mexcept\u001b[39;00m \u001b[38;5;167;01mBaseException\u001b[39;00m \u001b[38;5;28;01mas\u001b[39;00m exc:\n\u001b[0;32m    927\u001b[0m     response\u001b[38;5;241m.\u001b[39mclose()\n\u001b[1;32m--> 928\u001b[0m     \u001b[38;5;28;01mraise\u001b[39;00m exc\n",
      "File \u001b[1;32mc:\\Users\\User\\Documents\\Honours\\venv\\Lib\\site-packages\\httpx\\_client.py:922\u001b[0m, in \u001b[0;36mClient.send\u001b[1;34m(self, request, stream, auth, follow_redirects)\u001b[0m\n\u001b[0;32m    920\u001b[0m \u001b[38;5;28;01mtry\u001b[39;00m:\n\u001b[0;32m    921\u001b[0m     \u001b[38;5;28;01mif\u001b[39;00m \u001b[38;5;129;01mnot\u001b[39;00m stream:\n\u001b[1;32m--> 922\u001b[0m         \u001b[43mresponse\u001b[49m\u001b[38;5;241;43m.\u001b[39;49m\u001b[43mread\u001b[49m\u001b[43m(\u001b[49m\u001b[43m)\u001b[49m\n\u001b[0;32m    924\u001b[0m     \u001b[38;5;28;01mreturn\u001b[39;00m response\n\u001b[0;32m    926\u001b[0m \u001b[38;5;28;01mexcept\u001b[39;00m \u001b[38;5;167;01mBaseException\u001b[39;00m \u001b[38;5;28;01mas\u001b[39;00m exc:\n",
      "File \u001b[1;32mc:\\Users\\User\\Documents\\Honours\\venv\\Lib\\site-packages\\httpx\\_models.py:881\u001b[0m, in \u001b[0;36mResponse.read\u001b[1;34m(self)\u001b[0m\n\u001b[0;32m    877\u001b[0m \u001b[38;5;250m\u001b[39m\u001b[38;5;124;03m\"\"\"\u001b[39;00m\n\u001b[0;32m    878\u001b[0m \u001b[38;5;124;03mRead and return the response content.\u001b[39;00m\n\u001b[0;32m    879\u001b[0m \u001b[38;5;124;03m\"\"\"\u001b[39;00m\n\u001b[0;32m    880\u001b[0m \u001b[38;5;28;01mif\u001b[39;00m \u001b[38;5;129;01mnot\u001b[39;00m \u001b[38;5;28mhasattr\u001b[39m(\u001b[38;5;28mself\u001b[39m, \u001b[38;5;124m\"\u001b[39m\u001b[38;5;124m_content\u001b[39m\u001b[38;5;124m\"\u001b[39m):\n\u001b[1;32m--> 881\u001b[0m     \u001b[38;5;28mself\u001b[39m\u001b[38;5;241m.\u001b[39m_content \u001b[38;5;241m=\u001b[39m \u001b[38;5;124mb\u001b[39m\u001b[38;5;124m\"\u001b[39m\u001b[38;5;124m\"\u001b[39m\u001b[38;5;241m.\u001b[39mjoin(\u001b[38;5;28mself\u001b[39m\u001b[38;5;241m.\u001b[39miter_bytes())\n\u001b[0;32m    882\u001b[0m \u001b[38;5;28;01mreturn\u001b[39;00m \u001b[38;5;28mself\u001b[39m\u001b[38;5;241m.\u001b[39m_content\n",
      "File \u001b[1;32mc:\\Users\\User\\Documents\\Honours\\venv\\Lib\\site-packages\\httpx\\_models.py:897\u001b[0m, in \u001b[0;36mResponse.iter_bytes\u001b[1;34m(self, chunk_size)\u001b[0m\n\u001b[0;32m    895\u001b[0m chunker \u001b[38;5;241m=\u001b[39m ByteChunker(chunk_size\u001b[38;5;241m=\u001b[39mchunk_size)\n\u001b[0;32m    896\u001b[0m \u001b[38;5;28;01mwith\u001b[39;00m request_context(request\u001b[38;5;241m=\u001b[39m\u001b[38;5;28mself\u001b[39m\u001b[38;5;241m.\u001b[39m_request):\n\u001b[1;32m--> 897\u001b[0m \u001b[43m    \u001b[49m\u001b[38;5;28;43;01mfor\u001b[39;49;00m\u001b[43m \u001b[49m\u001b[43mraw_bytes\u001b[49m\u001b[43m \u001b[49m\u001b[38;5;129;43;01min\u001b[39;49;00m\u001b[43m \u001b[49m\u001b[38;5;28;43mself\u001b[39;49m\u001b[38;5;241;43m.\u001b[39;49m\u001b[43miter_raw\u001b[49m\u001b[43m(\u001b[49m\u001b[43m)\u001b[49m\u001b[43m:\u001b[49m\n\u001b[0;32m    898\u001b[0m \u001b[43m        \u001b[49m\u001b[43mdecoded\u001b[49m\u001b[43m \u001b[49m\u001b[38;5;241;43m=\u001b[39;49m\u001b[43m \u001b[49m\u001b[43mdecoder\u001b[49m\u001b[38;5;241;43m.\u001b[39;49m\u001b[43mdecode\u001b[49m\u001b[43m(\u001b[49m\u001b[43mraw_bytes\u001b[49m\u001b[43m)\u001b[49m\n\u001b[0;32m    899\u001b[0m \u001b[43m        \u001b[49m\u001b[38;5;28;43;01mfor\u001b[39;49;00m\u001b[43m \u001b[49m\u001b[43mchunk\u001b[49m\u001b[43m \u001b[49m\u001b[38;5;129;43;01min\u001b[39;49;00m\u001b[43m \u001b[49m\u001b[43mchunker\u001b[49m\u001b[38;5;241;43m.\u001b[39;49m\u001b[43mdecode\u001b[49m\u001b[43m(\u001b[49m\u001b[43mdecoded\u001b[49m\u001b[43m)\u001b[49m\u001b[43m:\u001b[49m\n",
      "File \u001b[1;32mc:\\Users\\User\\Documents\\Honours\\venv\\Lib\\site-packages\\httpx\\_models.py:951\u001b[0m, in \u001b[0;36mResponse.iter_raw\u001b[1;34m(self, chunk_size)\u001b[0m\n\u001b[0;32m    948\u001b[0m chunker \u001b[38;5;241m=\u001b[39m ByteChunker(chunk_size\u001b[38;5;241m=\u001b[39mchunk_size)\n\u001b[0;32m    950\u001b[0m \u001b[38;5;28;01mwith\u001b[39;00m request_context(request\u001b[38;5;241m=\u001b[39m\u001b[38;5;28mself\u001b[39m\u001b[38;5;241m.\u001b[39m_request):\n\u001b[1;32m--> 951\u001b[0m \u001b[43m    \u001b[49m\u001b[38;5;28;43;01mfor\u001b[39;49;00m\u001b[43m \u001b[49m\u001b[43mraw_stream_bytes\u001b[49m\u001b[43m \u001b[49m\u001b[38;5;129;43;01min\u001b[39;49;00m\u001b[43m \u001b[49m\u001b[38;5;28;43mself\u001b[39;49m\u001b[38;5;241;43m.\u001b[39;49m\u001b[43mstream\u001b[49m\u001b[43m:\u001b[49m\n\u001b[0;32m    952\u001b[0m \u001b[43m        \u001b[49m\u001b[38;5;28;43mself\u001b[39;49m\u001b[38;5;241;43m.\u001b[39;49m\u001b[43m_num_bytes_downloaded\u001b[49m\u001b[43m \u001b[49m\u001b[38;5;241;43m+\u001b[39;49m\u001b[38;5;241;43m=\u001b[39;49m\u001b[43m \u001b[49m\u001b[38;5;28;43mlen\u001b[39;49m\u001b[43m(\u001b[49m\u001b[43mraw_stream_bytes\u001b[49m\u001b[43m)\u001b[49m\n\u001b[0;32m    953\u001b[0m \u001b[43m        \u001b[49m\u001b[38;5;28;43;01mfor\u001b[39;49;00m\u001b[43m \u001b[49m\u001b[43mchunk\u001b[49m\u001b[43m \u001b[49m\u001b[38;5;129;43;01min\u001b[39;49;00m\u001b[43m \u001b[49m\u001b[43mchunker\u001b[49m\u001b[38;5;241;43m.\u001b[39;49m\u001b[43mdecode\u001b[49m\u001b[43m(\u001b[49m\u001b[43mraw_stream_bytes\u001b[49m\u001b[43m)\u001b[49m\u001b[43m:\u001b[49m\n",
      "File \u001b[1;32mc:\\Users\\User\\Documents\\Honours\\venv\\Lib\\site-packages\\httpx\\_client.py:153\u001b[0m, in \u001b[0;36mBoundSyncStream.__iter__\u001b[1;34m(self)\u001b[0m\n\u001b[0;32m    152\u001b[0m \u001b[38;5;28;01mdef\u001b[39;00m\u001b[38;5;250m \u001b[39m\u001b[38;5;21m__iter__\u001b[39m(\u001b[38;5;28mself\u001b[39m) \u001b[38;5;241m-\u001b[39m\u001b[38;5;241m>\u001b[39m typing\u001b[38;5;241m.\u001b[39mIterator[\u001b[38;5;28mbytes\u001b[39m]:\n\u001b[1;32m--> 153\u001b[0m \u001b[43m    \u001b[49m\u001b[38;5;28;43;01mfor\u001b[39;49;00m\u001b[43m \u001b[49m\u001b[43mchunk\u001b[49m\u001b[43m \u001b[49m\u001b[38;5;129;43;01min\u001b[39;49;00m\u001b[43m \u001b[49m\u001b[38;5;28;43mself\u001b[39;49m\u001b[38;5;241;43m.\u001b[39;49m\u001b[43m_stream\u001b[49m\u001b[43m:\u001b[49m\n\u001b[0;32m    154\u001b[0m \u001b[43m        \u001b[49m\u001b[38;5;28;43;01myield\u001b[39;49;00m\u001b[43m \u001b[49m\u001b[43mchunk\u001b[49m\n",
      "File \u001b[1;32mc:\\Users\\User\\Documents\\Honours\\venv\\Lib\\site-packages\\httpx\\_transports\\default.py:127\u001b[0m, in \u001b[0;36mResponseStream.__iter__\u001b[1;34m(self)\u001b[0m\n\u001b[0;32m    125\u001b[0m \u001b[38;5;28;01mdef\u001b[39;00m\u001b[38;5;250m \u001b[39m\u001b[38;5;21m__iter__\u001b[39m(\u001b[38;5;28mself\u001b[39m) \u001b[38;5;241m-\u001b[39m\u001b[38;5;241m>\u001b[39m typing\u001b[38;5;241m.\u001b[39mIterator[\u001b[38;5;28mbytes\u001b[39m]:\n\u001b[0;32m    126\u001b[0m     \u001b[38;5;28;01mwith\u001b[39;00m map_httpcore_exceptions():\n\u001b[1;32m--> 127\u001b[0m \u001b[43m        \u001b[49m\u001b[38;5;28;43;01mfor\u001b[39;49;00m\u001b[43m \u001b[49m\u001b[43mpart\u001b[49m\u001b[43m \u001b[49m\u001b[38;5;129;43;01min\u001b[39;49;00m\u001b[43m \u001b[49m\u001b[38;5;28;43mself\u001b[39;49m\u001b[38;5;241;43m.\u001b[39;49m\u001b[43m_httpcore_stream\u001b[49m\u001b[43m:\u001b[49m\n\u001b[0;32m    128\u001b[0m \u001b[43m            \u001b[49m\u001b[38;5;28;43;01myield\u001b[39;49;00m\u001b[43m \u001b[49m\u001b[43mpart\u001b[49m\n",
      "File \u001b[1;32mc:\\Users\\User\\Documents\\Honours\\venv\\Lib\\site-packages\\httpcore\\_sync\\connection_pool.py:407\u001b[0m, in \u001b[0;36mPoolByteStream.__iter__\u001b[1;34m(self)\u001b[0m\n\u001b[0;32m    405\u001b[0m \u001b[38;5;28;01mexcept\u001b[39;00m \u001b[38;5;167;01mBaseException\u001b[39;00m \u001b[38;5;28;01mas\u001b[39;00m exc:\n\u001b[0;32m    406\u001b[0m     \u001b[38;5;28mself\u001b[39m\u001b[38;5;241m.\u001b[39mclose()\n\u001b[1;32m--> 407\u001b[0m     \u001b[38;5;28;01mraise\u001b[39;00m exc \u001b[38;5;28;01mfrom\u001b[39;00m\u001b[38;5;250m \u001b[39m\u001b[38;5;28;01mNone\u001b[39;00m\n",
      "File \u001b[1;32mc:\\Users\\User\\Documents\\Honours\\venv\\Lib\\site-packages\\httpcore\\_sync\\connection_pool.py:403\u001b[0m, in \u001b[0;36mPoolByteStream.__iter__\u001b[1;34m(self)\u001b[0m\n\u001b[0;32m    401\u001b[0m \u001b[38;5;28;01mdef\u001b[39;00m\u001b[38;5;250m \u001b[39m\u001b[38;5;21m__iter__\u001b[39m(\u001b[38;5;28mself\u001b[39m) \u001b[38;5;241m-\u001b[39m\u001b[38;5;241m>\u001b[39m typing\u001b[38;5;241m.\u001b[39mIterator[\u001b[38;5;28mbytes\u001b[39m]:\n\u001b[0;32m    402\u001b[0m     \u001b[38;5;28;01mtry\u001b[39;00m:\n\u001b[1;32m--> 403\u001b[0m \u001b[43m        \u001b[49m\u001b[38;5;28;43;01mfor\u001b[39;49;00m\u001b[43m \u001b[49m\u001b[43mpart\u001b[49m\u001b[43m \u001b[49m\u001b[38;5;129;43;01min\u001b[39;49;00m\u001b[43m \u001b[49m\u001b[38;5;28;43mself\u001b[39;49m\u001b[38;5;241;43m.\u001b[39;49m\u001b[43m_stream\u001b[49m\u001b[43m:\u001b[49m\n\u001b[0;32m    404\u001b[0m \u001b[43m            \u001b[49m\u001b[38;5;28;43;01myield\u001b[39;49;00m\u001b[43m \u001b[49m\u001b[43mpart\u001b[49m\n\u001b[0;32m    405\u001b[0m     \u001b[38;5;28;01mexcept\u001b[39;00m \u001b[38;5;167;01mBaseException\u001b[39;00m \u001b[38;5;28;01mas\u001b[39;00m exc:\n",
      "File \u001b[1;32mc:\\Users\\User\\Documents\\Honours\\venv\\Lib\\site-packages\\httpcore\\_sync\\http11.py:342\u001b[0m, in \u001b[0;36mHTTP11ConnectionByteStream.__iter__\u001b[1;34m(self)\u001b[0m\n\u001b[0;32m    340\u001b[0m \u001b[38;5;28;01mwith\u001b[39;00m ShieldCancellation():\n\u001b[0;32m    341\u001b[0m     \u001b[38;5;28mself\u001b[39m\u001b[38;5;241m.\u001b[39mclose()\n\u001b[1;32m--> 342\u001b[0m \u001b[38;5;28;01mraise\u001b[39;00m exc\n",
      "File \u001b[1;32mc:\\Users\\User\\Documents\\Honours\\venv\\Lib\\site-packages\\httpcore\\_sync\\http11.py:334\u001b[0m, in \u001b[0;36mHTTP11ConnectionByteStream.__iter__\u001b[1;34m(self)\u001b[0m\n\u001b[0;32m    332\u001b[0m \u001b[38;5;28;01mtry\u001b[39;00m:\n\u001b[0;32m    333\u001b[0m     \u001b[38;5;28;01mwith\u001b[39;00m Trace(\u001b[38;5;124m\"\u001b[39m\u001b[38;5;124mreceive_response_body\u001b[39m\u001b[38;5;124m\"\u001b[39m, logger, \u001b[38;5;28mself\u001b[39m\u001b[38;5;241m.\u001b[39m_request, kwargs):\n\u001b[1;32m--> 334\u001b[0m \u001b[43m        \u001b[49m\u001b[38;5;28;43;01mfor\u001b[39;49;00m\u001b[43m \u001b[49m\u001b[43mchunk\u001b[49m\u001b[43m \u001b[49m\u001b[38;5;129;43;01min\u001b[39;49;00m\u001b[43m \u001b[49m\u001b[38;5;28;43mself\u001b[39;49m\u001b[38;5;241;43m.\u001b[39;49m\u001b[43m_connection\u001b[49m\u001b[38;5;241;43m.\u001b[39;49m\u001b[43m_receive_response_body\u001b[49m\u001b[43m(\u001b[49m\u001b[38;5;241;43m*\u001b[39;49m\u001b[38;5;241;43m*\u001b[39;49m\u001b[43mkwargs\u001b[49m\u001b[43m)\u001b[49m\u001b[43m:\u001b[49m\n\u001b[0;32m    335\u001b[0m \u001b[43m            \u001b[49m\u001b[38;5;28;43;01myield\u001b[39;49;00m\u001b[43m \u001b[49m\u001b[43mchunk\u001b[49m\n\u001b[0;32m    336\u001b[0m \u001b[38;5;28;01mexcept\u001b[39;00m \u001b[38;5;167;01mBaseException\u001b[39;00m \u001b[38;5;28;01mas\u001b[39;00m exc:\n\u001b[0;32m    337\u001b[0m     \u001b[38;5;66;03m# If we get an exception while streaming the response,\u001b[39;00m\n\u001b[0;32m    338\u001b[0m     \u001b[38;5;66;03m# we want to close the response (and possibly the connection)\u001b[39;00m\n\u001b[0;32m    339\u001b[0m     \u001b[38;5;66;03m# before raising that exception.\u001b[39;00m\n",
      "File \u001b[1;32mc:\\Users\\User\\Documents\\Honours\\venv\\Lib\\site-packages\\httpcore\\_sync\\http11.py:203\u001b[0m, in \u001b[0;36mHTTP11Connection._receive_response_body\u001b[1;34m(self, request)\u001b[0m\n\u001b[0;32m    200\u001b[0m timeout \u001b[38;5;241m=\u001b[39m timeouts\u001b[38;5;241m.\u001b[39mget(\u001b[38;5;124m\"\u001b[39m\u001b[38;5;124mread\u001b[39m\u001b[38;5;124m\"\u001b[39m, \u001b[38;5;28;01mNone\u001b[39;00m)\n\u001b[0;32m    202\u001b[0m \u001b[38;5;28;01mwhile\u001b[39;00m \u001b[38;5;28;01mTrue\u001b[39;00m:\n\u001b[1;32m--> 203\u001b[0m     event \u001b[38;5;241m=\u001b[39m \u001b[38;5;28;43mself\u001b[39;49m\u001b[38;5;241;43m.\u001b[39;49m\u001b[43m_receive_event\u001b[49m\u001b[43m(\u001b[49m\u001b[43mtimeout\u001b[49m\u001b[38;5;241;43m=\u001b[39;49m\u001b[43mtimeout\u001b[49m\u001b[43m)\u001b[49m\n\u001b[0;32m    204\u001b[0m     \u001b[38;5;28;01mif\u001b[39;00m \u001b[38;5;28misinstance\u001b[39m(event, h11\u001b[38;5;241m.\u001b[39mData):\n\u001b[0;32m    205\u001b[0m         \u001b[38;5;28;01myield\u001b[39;00m \u001b[38;5;28mbytes\u001b[39m(event\u001b[38;5;241m.\u001b[39mdata)\n",
      "File \u001b[1;32mc:\\Users\\User\\Documents\\Honours\\venv\\Lib\\site-packages\\httpcore\\_sync\\http11.py:217\u001b[0m, in \u001b[0;36mHTTP11Connection._receive_event\u001b[1;34m(self, timeout)\u001b[0m\n\u001b[0;32m    214\u001b[0m     event \u001b[38;5;241m=\u001b[39m \u001b[38;5;28mself\u001b[39m\u001b[38;5;241m.\u001b[39m_h11_state\u001b[38;5;241m.\u001b[39mnext_event()\n\u001b[0;32m    216\u001b[0m \u001b[38;5;28;01mif\u001b[39;00m event \u001b[38;5;129;01mis\u001b[39;00m h11\u001b[38;5;241m.\u001b[39mNEED_DATA:\n\u001b[1;32m--> 217\u001b[0m     data \u001b[38;5;241m=\u001b[39m \u001b[38;5;28;43mself\u001b[39;49m\u001b[38;5;241;43m.\u001b[39;49m\u001b[43m_network_stream\u001b[49m\u001b[38;5;241;43m.\u001b[39;49m\u001b[43mread\u001b[49m\u001b[43m(\u001b[49m\n\u001b[0;32m    218\u001b[0m \u001b[43m        \u001b[49m\u001b[38;5;28;43mself\u001b[39;49m\u001b[38;5;241;43m.\u001b[39;49m\u001b[43mREAD_NUM_BYTES\u001b[49m\u001b[43m,\u001b[49m\u001b[43m \u001b[49m\u001b[43mtimeout\u001b[49m\u001b[38;5;241;43m=\u001b[39;49m\u001b[43mtimeout\u001b[49m\n\u001b[0;32m    219\u001b[0m \u001b[43m    \u001b[49m\u001b[43m)\u001b[49m\n\u001b[0;32m    221\u001b[0m     \u001b[38;5;66;03m# If we feed this case through h11 we'll raise an exception like:\u001b[39;00m\n\u001b[0;32m    222\u001b[0m     \u001b[38;5;66;03m#\u001b[39;00m\n\u001b[0;32m    223\u001b[0m     \u001b[38;5;66;03m#     httpcore.RemoteProtocolError: can't handle event type\u001b[39;00m\n\u001b[1;32m   (...)\u001b[0m\n\u001b[0;32m    227\u001b[0m     \u001b[38;5;66;03m# perspective. Instead we handle this case distinctly and treat\u001b[39;00m\n\u001b[0;32m    228\u001b[0m     \u001b[38;5;66;03m# it as a ConnectError.\u001b[39;00m\n\u001b[0;32m    229\u001b[0m     \u001b[38;5;28;01mif\u001b[39;00m data \u001b[38;5;241m==\u001b[39m \u001b[38;5;124mb\u001b[39m\u001b[38;5;124m\"\u001b[39m\u001b[38;5;124m\"\u001b[39m \u001b[38;5;129;01mand\u001b[39;00m \u001b[38;5;28mself\u001b[39m\u001b[38;5;241m.\u001b[39m_h11_state\u001b[38;5;241m.\u001b[39mtheir_state \u001b[38;5;241m==\u001b[39m h11\u001b[38;5;241m.\u001b[39mSEND_RESPONSE:\n",
      "File \u001b[1;32mc:\\Users\\User\\Documents\\Honours\\venv\\Lib\\site-packages\\httpcore\\_backends\\sync.py:128\u001b[0m, in \u001b[0;36mSyncStream.read\u001b[1;34m(self, max_bytes, timeout)\u001b[0m\n\u001b[0;32m    126\u001b[0m \u001b[38;5;28;01mwith\u001b[39;00m map_exceptions(exc_map):\n\u001b[0;32m    127\u001b[0m     \u001b[38;5;28mself\u001b[39m\u001b[38;5;241m.\u001b[39m_sock\u001b[38;5;241m.\u001b[39msettimeout(timeout)\n\u001b[1;32m--> 128\u001b[0m     \u001b[38;5;28;01mreturn\u001b[39;00m \u001b[38;5;28;43mself\u001b[39;49m\u001b[38;5;241;43m.\u001b[39;49m\u001b[43m_sock\u001b[49m\u001b[38;5;241;43m.\u001b[39;49m\u001b[43mrecv\u001b[49m\u001b[43m(\u001b[49m\u001b[43mmax_bytes\u001b[49m\u001b[43m)\u001b[49m\n",
      "File \u001b[1;32mC:\\Python311\\Lib\\ssl.py:1296\u001b[0m, in \u001b[0;36mSSLSocket.recv\u001b[1;34m(self, buflen, flags)\u001b[0m\n\u001b[0;32m   1292\u001b[0m     \u001b[38;5;28;01mif\u001b[39;00m flags \u001b[38;5;241m!=\u001b[39m \u001b[38;5;241m0\u001b[39m:\n\u001b[0;32m   1293\u001b[0m         \u001b[38;5;28;01mraise\u001b[39;00m \u001b[38;5;167;01mValueError\u001b[39;00m(\n\u001b[0;32m   1294\u001b[0m             \u001b[38;5;124m\"\u001b[39m\u001b[38;5;124mnon-zero flags not allowed in calls to recv() on \u001b[39m\u001b[38;5;132;01m%s\u001b[39;00m\u001b[38;5;124m\"\u001b[39m \u001b[38;5;241m%\u001b[39m\n\u001b[0;32m   1295\u001b[0m             \u001b[38;5;28mself\u001b[39m\u001b[38;5;241m.\u001b[39m\u001b[38;5;18m__class__\u001b[39m)\n\u001b[1;32m-> 1296\u001b[0m     \u001b[38;5;28;01mreturn\u001b[39;00m \u001b[38;5;28;43mself\u001b[39;49m\u001b[38;5;241;43m.\u001b[39;49m\u001b[43mread\u001b[49m\u001b[43m(\u001b[49m\u001b[43mbuflen\u001b[49m\u001b[43m)\u001b[49m\n\u001b[0;32m   1297\u001b[0m \u001b[38;5;28;01melse\u001b[39;00m:\n\u001b[0;32m   1298\u001b[0m     \u001b[38;5;28;01mreturn\u001b[39;00m \u001b[38;5;28msuper\u001b[39m()\u001b[38;5;241m.\u001b[39mrecv(buflen, flags)\n",
      "File \u001b[1;32mC:\\Python311\\Lib\\ssl.py:1169\u001b[0m, in \u001b[0;36mSSLSocket.read\u001b[1;34m(self, len, buffer)\u001b[0m\n\u001b[0;32m   1167\u001b[0m         \u001b[38;5;28;01mreturn\u001b[39;00m \u001b[38;5;28mself\u001b[39m\u001b[38;5;241m.\u001b[39m_sslobj\u001b[38;5;241m.\u001b[39mread(\u001b[38;5;28mlen\u001b[39m, buffer)\n\u001b[0;32m   1168\u001b[0m     \u001b[38;5;28;01melse\u001b[39;00m:\n\u001b[1;32m-> 1169\u001b[0m         \u001b[38;5;28;01mreturn\u001b[39;00m \u001b[38;5;28;43mself\u001b[39;49m\u001b[38;5;241;43m.\u001b[39;49m\u001b[43m_sslobj\u001b[49m\u001b[38;5;241;43m.\u001b[39;49m\u001b[43mread\u001b[49m\u001b[43m(\u001b[49m\u001b[38;5;28;43mlen\u001b[39;49m\u001b[43m)\u001b[49m\n\u001b[0;32m   1170\u001b[0m \u001b[38;5;28;01mexcept\u001b[39;00m SSLError \u001b[38;5;28;01mas\u001b[39;00m x:\n\u001b[0;32m   1171\u001b[0m     \u001b[38;5;28;01mif\u001b[39;00m x\u001b[38;5;241m.\u001b[39margs[\u001b[38;5;241m0\u001b[39m] \u001b[38;5;241m==\u001b[39m SSL_ERROR_EOF \u001b[38;5;129;01mand\u001b[39;00m \u001b[38;5;28mself\u001b[39m\u001b[38;5;241m.\u001b[39msuppress_ragged_eofs:\n",
      "\u001b[1;31mKeyboardInterrupt\u001b[0m: "
     ]
    }
   ],
   "source": [
    "bruh = get_depression_severity_openrouter(\n",
    "    missing_df,\n",
    "    model=\"deepseek/deepseek-chat:free\",\n",
    "    num_samples=missing_df.shape[0]  # Process all rows in the DataFrame\n",
    ")\n",
    "bruh.to_csv(\"data/2-deepseek_extra_rows_500.csv\", index=False)"
   ]
  },
  {
   "cell_type": "code",
   "execution_count": 6,
   "metadata": {},
   "outputs": [],
   "source": [
    "extra_rows_500 = pd.read_csv(\"data/extra_rows_500.csv\")"
   ]
  },
  {
   "cell_type": "code",
   "execution_count": 7,
   "metadata": {},
   "outputs": [
    {
     "data": {
      "application/vnd.jupyter.widget-view+json": {
       "model_id": "70f09a0508a04217b29ecc02f6872e5b",
       "version_major": 2,
       "version_minor": 0
      },
      "text/plain": [
       "Processing samples:   0%|          | 0/500 [00:00<?, ?it/s]"
      ]
     },
     "metadata": {},
     "output_type": "display_data"
    },
    {
     "name": "stdout",
     "output_type": "stream",
     "text": [
      "Error processing sample 180: 'NoneType' object is not subscriptable\n",
      "Error processing sample 181: 'NoneType' object is not subscriptable\n",
      "Error processing sample 182: 'NoneType' object is not subscriptable\n",
      "Error processing sample 183: 'NoneType' object is not subscriptable\n",
      "Error processing sample 184: 'NoneType' object is not subscriptable\n",
      "Error processing sample 185: 'NoneType' object is not subscriptable\n",
      "Error processing sample 186: 'NoneType' object is not subscriptable\n",
      "Error processing sample 187: 'NoneType' object is not subscriptable\n",
      "Error processing sample 188: 'NoneType' object is not subscriptable\n",
      "Error processing sample 189: 'NoneType' object is not subscriptable\n",
      "Error processing sample 190: 'NoneType' object is not subscriptable\n",
      "Error processing sample 191: 'NoneType' object is not subscriptable\n",
      "Error processing sample 192: 'NoneType' object is not subscriptable\n",
      "Error processing sample 193: 'NoneType' object is not subscriptable\n",
      "Error processing sample 194: 'NoneType' object is not subscriptable\n",
      "Error processing sample 195: 'NoneType' object is not subscriptable\n",
      "Error processing sample 196: 'NoneType' object is not subscriptable\n",
      "Error processing sample 197: 'NoneType' object is not subscriptable\n",
      "Error processing sample 198: 'NoneType' object is not subscriptable\n",
      "Error processing sample 199: 'NoneType' object is not subscriptable\n",
      "Error processing sample 200: 'NoneType' object is not subscriptable\n",
      "Error processing sample 201: 'NoneType' object is not subscriptable\n",
      "Error processing sample 202: 'NoneType' object is not subscriptable\n",
      "Error processing sample 203: 'NoneType' object is not subscriptable\n",
      "Error processing sample 204: 'NoneType' object is not subscriptable\n",
      "Error processing sample 205: 'NoneType' object is not subscriptable\n",
      "Error processing sample 206: 'NoneType' object is not subscriptable\n",
      "Error processing sample 207: 'NoneType' object is not subscriptable\n",
      "Error processing sample 208: 'NoneType' object is not subscriptable\n",
      "Error processing sample 209: 'NoneType' object is not subscriptable\n",
      "Error processing sample 210: 'NoneType' object is not subscriptable\n",
      "Error processing sample 211: 'NoneType' object is not subscriptable\n",
      "Error processing sample 212: 'NoneType' object is not subscriptable\n",
      "Error processing sample 213: 'NoneType' object is not subscriptable\n",
      "Error processing sample 214: 'NoneType' object is not subscriptable\n",
      "Error processing sample 215: 'NoneType' object is not subscriptable\n",
      "Error processing sample 216: 'NoneType' object is not subscriptable\n",
      "Error processing sample 217: 'NoneType' object is not subscriptable\n",
      "Error processing sample 218: 'NoneType' object is not subscriptable\n",
      "Error processing sample 219: 'NoneType' object is not subscriptable\n",
      "Error processing sample 220: 'NoneType' object is not subscriptable\n",
      "Error processing sample 221: 'NoneType' object is not subscriptable\n",
      "Error processing sample 222: 'NoneType' object is not subscriptable\n",
      "Error processing sample 223: 'NoneType' object is not subscriptable\n",
      "Error processing sample 224: 'NoneType' object is not subscriptable\n",
      "Error processing sample 225: 'NoneType' object is not subscriptable\n",
      "Error processing sample 226: 'NoneType' object is not subscriptable\n",
      "Error processing sample 227: 'NoneType' object is not subscriptable\n",
      "Error processing sample 228: 'NoneType' object is not subscriptable\n",
      "Error processing sample 229: 'NoneType' object is not subscriptable\n",
      "Error processing sample 230: 'NoneType' object is not subscriptable\n",
      "Error processing sample 231: 'NoneType' object is not subscriptable\n",
      "Error processing sample 232: 'NoneType' object is not subscriptable\n",
      "Error processing sample 233: 'NoneType' object is not subscriptable\n",
      "Error processing sample 234: 'NoneType' object is not subscriptable\n",
      "Error processing sample 235: 'NoneType' object is not subscriptable\n",
      "Error processing sample 236: 'NoneType' object is not subscriptable\n",
      "Error processing sample 237: 'NoneType' object is not subscriptable\n",
      "Error processing sample 238: 'NoneType' object is not subscriptable\n",
      "Error processing sample 239: 'NoneType' object is not subscriptable\n",
      "Error processing sample 240: 'NoneType' object is not subscriptable\n",
      "Error processing sample 241: 'NoneType' object is not subscriptable\n",
      "Error processing sample 242: 'NoneType' object is not subscriptable\n",
      "Error processing sample 243: 'NoneType' object is not subscriptable\n",
      "Error processing sample 244: 'NoneType' object is not subscriptable\n",
      "Error processing sample 245: 'NoneType' object is not subscriptable\n",
      "Error processing sample 246: 'NoneType' object is not subscriptable\n",
      "Error processing sample 247: 'NoneType' object is not subscriptable\n",
      "Error processing sample 248: 'NoneType' object is not subscriptable\n",
      "Error processing sample 249: 'NoneType' object is not subscriptable\n",
      "Error processing sample 250: 'NoneType' object is not subscriptable\n",
      "Error processing sample 251: 'NoneType' object is not subscriptable\n",
      "Error processing sample 252: 'NoneType' object is not subscriptable\n",
      "Error processing sample 253: 'NoneType' object is not subscriptable\n",
      "Error processing sample 254: 'NoneType' object is not subscriptable\n",
      "Error processing sample 255: 'NoneType' object is not subscriptable\n",
      "Error processing sample 256: 'NoneType' object is not subscriptable\n",
      "Error processing sample 257: 'NoneType' object is not subscriptable\n",
      "Error processing sample 258: 'NoneType' object is not subscriptable\n",
      "Error processing sample 259: 'NoneType' object is not subscriptable\n",
      "Error processing sample 260: 'NoneType' object is not subscriptable\n",
      "Error processing sample 261: 'NoneType' object is not subscriptable\n",
      "Error processing sample 262: 'NoneType' object is not subscriptable\n",
      "Error processing sample 263: 'NoneType' object is not subscriptable\n",
      "Error processing sample 264: 'NoneType' object is not subscriptable\n",
      "Error processing sample 265: 'NoneType' object is not subscriptable\n",
      "Error processing sample 266: 'NoneType' object is not subscriptable\n",
      "Error processing sample 267: 'NoneType' object is not subscriptable\n",
      "Error processing sample 268: 'NoneType' object is not subscriptable\n",
      "Error processing sample 269: 'NoneType' object is not subscriptable\n",
      "Error processing sample 270: 'NoneType' object is not subscriptable\n",
      "Error processing sample 271: 'NoneType' object is not subscriptable\n",
      "Error processing sample 272: 'NoneType' object is not subscriptable\n",
      "Error processing sample 273: 'NoneType' object is not subscriptable\n",
      "Error processing sample 274: 'NoneType' object is not subscriptable\n",
      "Error processing sample 275: 'NoneType' object is not subscriptable\n",
      "Error processing sample 276: 'NoneType' object is not subscriptable\n",
      "Error processing sample 277: 'NoneType' object is not subscriptable\n",
      "Error processing sample 278: 'NoneType' object is not subscriptable\n",
      "Error processing sample 279: 'NoneType' object is not subscriptable\n",
      "Error processing sample 280: 'NoneType' object is not subscriptable\n",
      "Error processing sample 281: 'NoneType' object is not subscriptable\n",
      "Error processing sample 282: 'NoneType' object is not subscriptable\n",
      "Error processing sample 283: 'NoneType' object is not subscriptable\n",
      "Error processing sample 284: 'NoneType' object is not subscriptable\n",
      "Error processing sample 285: 'NoneType' object is not subscriptable\n",
      "Error processing sample 286: 'NoneType' object is not subscriptable\n",
      "Error processing sample 287: 'NoneType' object is not subscriptable\n",
      "Error processing sample 288: 'NoneType' object is not subscriptable\n",
      "Error processing sample 289: 'NoneType' object is not subscriptable\n",
      "Error processing sample 290: 'NoneType' object is not subscriptable\n",
      "Error processing sample 291: 'NoneType' object is not subscriptable\n",
      "Error processing sample 292: 'NoneType' object is not subscriptable\n",
      "Error processing sample 293: 'NoneType' object is not subscriptable\n",
      "Error processing sample 294: 'NoneType' object is not subscriptable\n",
      "Error processing sample 295: 'NoneType' object is not subscriptable\n",
      "Error processing sample 296: 'NoneType' object is not subscriptable\n",
      "Error processing sample 297: 'NoneType' object is not subscriptable\n",
      "Error processing sample 298: 'NoneType' object is not subscriptable\n",
      "Error processing sample 299: 'NoneType' object is not subscriptable\n",
      "Error processing sample 300: 'NoneType' object is not subscriptable\n",
      "Error processing sample 301: 'NoneType' object is not subscriptable\n",
      "Error processing sample 302: 'NoneType' object is not subscriptable\n",
      "Error processing sample 303: 'NoneType' object is not subscriptable\n",
      "Error processing sample 304: 'NoneType' object is not subscriptable\n",
      "Error processing sample 305: 'NoneType' object is not subscriptable\n",
      "Error processing sample 306: 'NoneType' object is not subscriptable\n",
      "Error processing sample 307: 'NoneType' object is not subscriptable\n",
      "Error processing sample 308: 'NoneType' object is not subscriptable\n",
      "Error processing sample 309: 'NoneType' object is not subscriptable\n",
      "Error processing sample 310: 'NoneType' object is not subscriptable\n",
      "Error processing sample 311: 'NoneType' object is not subscriptable\n",
      "Error processing sample 312: 'NoneType' object is not subscriptable\n",
      "Error processing sample 313: 'NoneType' object is not subscriptable\n",
      "Error processing sample 314: 'NoneType' object is not subscriptable\n",
      "Error processing sample 315: 'NoneType' object is not subscriptable\n",
      "Error processing sample 316: 'NoneType' object is not subscriptable\n",
      "Error processing sample 317: 'NoneType' object is not subscriptable\n",
      "Error processing sample 318: 'NoneType' object is not subscriptable\n",
      "Error processing sample 319: 'NoneType' object is not subscriptable\n",
      "Error processing sample 320: 'NoneType' object is not subscriptable\n",
      "Error processing sample 321: 'NoneType' object is not subscriptable\n",
      "Error processing sample 322: 'NoneType' object is not subscriptable\n",
      "Error processing sample 323: 'NoneType' object is not subscriptable\n",
      "Error processing sample 324: 'NoneType' object is not subscriptable\n",
      "Error processing sample 325: 'NoneType' object is not subscriptable\n",
      "Error processing sample 326: 'NoneType' object is not subscriptable\n",
      "Error processing sample 327: 'NoneType' object is not subscriptable\n",
      "Error processing sample 328: 'NoneType' object is not subscriptable\n",
      "Error processing sample 329: 'NoneType' object is not subscriptable\n",
      "Error processing sample 330: 'NoneType' object is not subscriptable\n",
      "Error processing sample 331: 'NoneType' object is not subscriptable\n",
      "Error processing sample 332: 'NoneType' object is not subscriptable\n",
      "Error processing sample 333: 'NoneType' object is not subscriptable\n",
      "Error processing sample 334: 'NoneType' object is not subscriptable\n",
      "Error processing sample 335: 'NoneType' object is not subscriptable\n",
      "Error processing sample 336: 'NoneType' object is not subscriptable\n",
      "Error processing sample 337: 'NoneType' object is not subscriptable\n",
      "Error processing sample 338: 'NoneType' object is not subscriptable\n",
      "Error processing sample 339: 'NoneType' object is not subscriptable\n",
      "Error processing sample 340: 'NoneType' object is not subscriptable\n",
      "Error processing sample 341: 'NoneType' object is not subscriptable\n",
      "Error processing sample 342: 'NoneType' object is not subscriptable\n",
      "Error processing sample 343: 'NoneType' object is not subscriptable\n",
      "Error processing sample 344: 'NoneType' object is not subscriptable\n",
      "Error processing sample 345: 'NoneType' object is not subscriptable\n",
      "Error processing sample 346: 'NoneType' object is not subscriptable\n",
      "Error processing sample 347: 'NoneType' object is not subscriptable\n",
      "Error processing sample 348: 'NoneType' object is not subscriptable\n",
      "Error processing sample 349: 'NoneType' object is not subscriptable\n",
      "Error processing sample 350: 'NoneType' object is not subscriptable\n",
      "Error processing sample 351: 'NoneType' object is not subscriptable\n",
      "Error processing sample 352: 'NoneType' object is not subscriptable\n",
      "Error processing sample 353: 'NoneType' object is not subscriptable\n",
      "Error processing sample 354: 'NoneType' object is not subscriptable\n",
      "Error processing sample 355: 'NoneType' object is not subscriptable\n",
      "Error processing sample 356: 'NoneType' object is not subscriptable\n",
      "Error processing sample 357: 'NoneType' object is not subscriptable\n",
      "Error processing sample 358: 'NoneType' object is not subscriptable\n",
      "Error processing sample 359: 'NoneType' object is not subscriptable\n",
      "Error processing sample 360: 'NoneType' object is not subscriptable\n",
      "Error processing sample 361: 'NoneType' object is not subscriptable\n",
      "Error processing sample 362: 'NoneType' object is not subscriptable\n",
      "Error processing sample 363: 'NoneType' object is not subscriptable\n",
      "Error processing sample 364: 'NoneType' object is not subscriptable\n",
      "Error processing sample 365: 'NoneType' object is not subscriptable\n",
      "Error processing sample 366: 'NoneType' object is not subscriptable\n",
      "Error processing sample 367: 'NoneType' object is not subscriptable\n",
      "Error processing sample 368: 'NoneType' object is not subscriptable\n",
      "Error processing sample 369: 'NoneType' object is not subscriptable\n",
      "Error processing sample 370: 'NoneType' object is not subscriptable\n",
      "Error processing sample 371: 'NoneType' object is not subscriptable\n",
      "Error processing sample 372: 'NoneType' object is not subscriptable\n",
      "Error processing sample 373: 'NoneType' object is not subscriptable\n",
      "Error processing sample 374: 'NoneType' object is not subscriptable\n",
      "Error processing sample 375: 'NoneType' object is not subscriptable\n",
      "Error processing sample 376: 'NoneType' object is not subscriptable\n",
      "Error processing sample 377: 'NoneType' object is not subscriptable\n",
      "Error processing sample 378: 'NoneType' object is not subscriptable\n",
      "Error processing sample 379: 'NoneType' object is not subscriptable\n",
      "Error processing sample 380: 'NoneType' object is not subscriptable\n",
      "Error processing sample 381: 'NoneType' object is not subscriptable\n",
      "Error processing sample 382: 'NoneType' object is not subscriptable\n",
      "Error processing sample 383: 'NoneType' object is not subscriptable\n",
      "Error processing sample 384: 'NoneType' object is not subscriptable\n",
      "Error processing sample 385: 'NoneType' object is not subscriptable\n",
      "Error processing sample 386: 'NoneType' object is not subscriptable\n",
      "Error processing sample 387: 'NoneType' object is not subscriptable\n",
      "Error processing sample 388: 'NoneType' object is not subscriptable\n",
      "Error processing sample 389: 'NoneType' object is not subscriptable\n",
      "Error processing sample 390: 'NoneType' object is not subscriptable\n",
      "Error processing sample 391: 'NoneType' object is not subscriptable\n",
      "Error processing sample 392: 'NoneType' object is not subscriptable\n",
      "Error processing sample 393: 'NoneType' object is not subscriptable\n",
      "Error processing sample 394: 'NoneType' object is not subscriptable\n",
      "Error processing sample 395: 'NoneType' object is not subscriptable\n",
      "Error processing sample 396: 'NoneType' object is not subscriptable\n",
      "Error processing sample 397: 'NoneType' object is not subscriptable\n",
      "Error processing sample 398: 'NoneType' object is not subscriptable\n",
      "Error processing sample 399: 'NoneType' object is not subscriptable\n",
      "Error processing sample 400: 'NoneType' object is not subscriptable\n",
      "Error processing sample 401: 'NoneType' object is not subscriptable\n",
      "Error processing sample 402: 'NoneType' object is not subscriptable\n",
      "Error processing sample 403: 'NoneType' object is not subscriptable\n",
      "Error processing sample 404: 'NoneType' object is not subscriptable\n",
      "Error processing sample 405: 'NoneType' object is not subscriptable\n",
      "Error processing sample 406: 'NoneType' object is not subscriptable\n",
      "Error processing sample 407: 'NoneType' object is not subscriptable\n",
      "Error processing sample 408: 'NoneType' object is not subscriptable\n",
      "Error processing sample 409: 'NoneType' object is not subscriptable\n",
      "Error processing sample 410: 'NoneType' object is not subscriptable\n",
      "Error processing sample 411: 'NoneType' object is not subscriptable\n",
      "Error processing sample 412: 'NoneType' object is not subscriptable\n",
      "Error processing sample 413: 'NoneType' object is not subscriptable\n",
      "Error processing sample 414: 'NoneType' object is not subscriptable\n",
      "Error processing sample 415: 'NoneType' object is not subscriptable\n",
      "Error processing sample 416: 'NoneType' object is not subscriptable\n",
      "Error processing sample 417: 'NoneType' object is not subscriptable\n",
      "Error processing sample 418: 'NoneType' object is not subscriptable\n",
      "Error processing sample 419: 'NoneType' object is not subscriptable\n",
      "Error processing sample 420: 'NoneType' object is not subscriptable\n",
      "Error processing sample 421: 'NoneType' object is not subscriptable\n",
      "Error processing sample 422: 'NoneType' object is not subscriptable\n",
      "Error processing sample 423: 'NoneType' object is not subscriptable\n",
      "Error processing sample 424: 'NoneType' object is not subscriptable\n",
      "Error processing sample 425: 'NoneType' object is not subscriptable\n",
      "Error processing sample 426: 'NoneType' object is not subscriptable\n",
      "Error processing sample 427: 'NoneType' object is not subscriptable\n",
      "Error processing sample 428: 'NoneType' object is not subscriptable\n",
      "Error processing sample 429: 'NoneType' object is not subscriptable\n",
      "Error processing sample 430: 'NoneType' object is not subscriptable\n",
      "Error processing sample 431: 'NoneType' object is not subscriptable\n",
      "Error processing sample 432: 'NoneType' object is not subscriptable\n",
      "Error processing sample 433: 'NoneType' object is not subscriptable\n",
      "Error processing sample 434: 'NoneType' object is not subscriptable\n",
      "Error processing sample 435: 'NoneType' object is not subscriptable\n",
      "Error processing sample 436: 'NoneType' object is not subscriptable\n",
      "Error processing sample 437: 'NoneType' object is not subscriptable\n",
      "Error processing sample 438: 'NoneType' object is not subscriptable\n",
      "Error processing sample 439: 'NoneType' object is not subscriptable\n",
      "Error processing sample 440: 'NoneType' object is not subscriptable\n",
      "Error processing sample 441: 'NoneType' object is not subscriptable\n",
      "Error processing sample 442: 'NoneType' object is not subscriptable\n",
      "Error processing sample 443: 'NoneType' object is not subscriptable\n",
      "Error processing sample 444: 'NoneType' object is not subscriptable\n",
      "Error processing sample 445: 'NoneType' object is not subscriptable\n",
      "Error processing sample 446: 'NoneType' object is not subscriptable\n",
      "Error processing sample 447: 'NoneType' object is not subscriptable\n",
      "Error processing sample 448: 'NoneType' object is not subscriptable\n",
      "Error processing sample 449: 'NoneType' object is not subscriptable\n",
      "Error processing sample 450: 'NoneType' object is not subscriptable\n",
      "Error processing sample 451: 'NoneType' object is not subscriptable\n",
      "Error processing sample 452: 'NoneType' object is not subscriptable\n",
      "Error processing sample 453: 'NoneType' object is not subscriptable\n",
      "Error processing sample 454: 'NoneType' object is not subscriptable\n",
      "Error processing sample 455: 'NoneType' object is not subscriptable\n",
      "Error processing sample 456: 'NoneType' object is not subscriptable\n",
      "Error processing sample 457: 'NoneType' object is not subscriptable\n",
      "Error processing sample 458: 'NoneType' object is not subscriptable\n",
      "Error processing sample 459: 'NoneType' object is not subscriptable\n",
      "Error processing sample 460: 'NoneType' object is not subscriptable\n",
      "Error processing sample 461: 'NoneType' object is not subscriptable\n",
      "Error processing sample 462: 'NoneType' object is not subscriptable\n",
      "Error processing sample 463: 'NoneType' object is not subscriptable\n",
      "Error processing sample 464: 'NoneType' object is not subscriptable\n",
      "Error processing sample 465: 'NoneType' object is not subscriptable\n",
      "Error processing sample 466: 'NoneType' object is not subscriptable\n",
      "Error processing sample 467: 'NoneType' object is not subscriptable\n",
      "Error processing sample 468: 'NoneType' object is not subscriptable\n",
      "Error processing sample 469: 'NoneType' object is not subscriptable\n",
      "Error processing sample 470: 'NoneType' object is not subscriptable\n",
      "Error processing sample 471: 'NoneType' object is not subscriptable\n",
      "Error processing sample 472: 'NoneType' object is not subscriptable\n",
      "Error processing sample 473: 'NoneType' object is not subscriptable\n",
      "Error processing sample 474: 'NoneType' object is not subscriptable\n",
      "Error processing sample 475: 'NoneType' object is not subscriptable\n",
      "Error processing sample 476: 'NoneType' object is not subscriptable\n",
      "Error processing sample 477: 'NoneType' object is not subscriptable\n",
      "Error processing sample 478: 'NoneType' object is not subscriptable\n",
      "Error processing sample 479: 'NoneType' object is not subscriptable\n",
      "Error processing sample 480: 'NoneType' object is not subscriptable\n",
      "Error processing sample 481: 'NoneType' object is not subscriptable\n",
      "Error processing sample 482: 'NoneType' object is not subscriptable\n",
      "Error processing sample 483: 'NoneType' object is not subscriptable\n",
      "Error processing sample 484: 'NoneType' object is not subscriptable\n",
      "Error processing sample 485: 'NoneType' object is not subscriptable\n",
      "Error processing sample 486: 'NoneType' object is not subscriptable\n",
      "Error processing sample 487: 'NoneType' object is not subscriptable\n",
      "Error processing sample 488: 'NoneType' object is not subscriptable\n",
      "Error processing sample 489: 'NoneType' object is not subscriptable\n",
      "Error processing sample 490: 'NoneType' object is not subscriptable\n",
      "Error processing sample 491: 'NoneType' object is not subscriptable\n",
      "Error processing sample 492: 'NoneType' object is not subscriptable\n",
      "Error processing sample 493: 'NoneType' object is not subscriptable\n",
      "Error processing sample 494: 'NoneType' object is not subscriptable\n",
      "Error processing sample 495: 'NoneType' object is not subscriptable\n",
      "Error processing sample 496: 'NoneType' object is not subscriptable\n",
      "Error processing sample 497: 'NoneType' object is not subscriptable\n",
      "Error processing sample 498: 'NoneType' object is not subscriptable\n",
      "Error processing sample 499: 'NoneType' object is not subscriptable\n"
     ]
    }
   ],
   "source": [
    "if not os.path.exists(\"data/deepseek_extra_rows_500.csv\"):\n",
    "    # Get the depression severity ratings for the extra rows\n",
    "    extra_rows_500_deepseek = get_depression_severity_openrouter(extra_rows_500, model=\"deepseek/deepseek-chat:free\", num_samples=extra_rows_500.shape[0])\n",
    "    extra_rows_500_deepseek.to_csv(\"data/deepseek_extra_rows_500.csv\", index=False)\n",
    "else:\n",
    "    # Load the existing results\n",
    "    print(\"Loading existing results...\")\n",
    "    extra_rows_500_deepseek = pd.read_csv(\"data/deepseek_extra_rows_500.csv\")"
   ]
  },
  {
   "cell_type": "code",
   "execution_count": 21,
   "metadata": {},
   "outputs": [],
   "source": [
    "deepseek_df = pd.read_csv(\"data/deepseek_extra_rows_500.csv\")\n",
    "\n",
    "# add more stuff from extra_rows_500 to deepseek_df\n",
    "deepseek_df = pd.concat([deepseek_df, extra_rows_500], ignore_index=True)\n",
    "# remove duplicates from deepseek_df\n",
    "deepseek_df = deepseek_df.drop_duplicates(subset=['text'])\n",
    "# reset index\n",
    "deepseek_df = deepseek_df.reset_index(drop=True)\n"
   ]
  },
  {
   "cell_type": "code",
   "execution_count": 22,
   "metadata": {},
   "outputs": [
    {
     "data": {
      "text/plain": [
       "500"
      ]
     },
     "execution_count": 22,
     "metadata": {},
     "output_type": "execute_result"
    }
   ],
   "source": [
    "deepseek_df.shape[0]"
   ]
  },
  {
   "cell_type": "code",
   "execution_count": 25,
   "metadata": {},
   "outputs": [],
   "source": [
    "# change NaN values to nothing in severity_rating and explanation columns\n",
    "deepseek_df['severity_rating'] = deepseek_df['severity_rating'].fillna('')\n",
    "deepseek_df['explanation'] = deepseek_df['explanation'].fillna('')"
   ]
  },
  {
   "cell_type": "code",
   "execution_count": 34,
   "metadata": {},
   "outputs": [
    {
     "name": "stdout",
     "output_type": "stream",
     "text": [
      "Preparing to process the first 500 rows.\n",
      "Original 'severity_rating' value counts (including potential blanks):\n",
      "severity_rating\n",
      "       320\n",
      "0.0     72\n",
      "3.0     35\n",
      "1.0     33\n",
      "4.0     23\n",
      "Name: count, dtype: int64\n",
      "\n",
      "'severity_rating' value counts after replacing blanks and coercing:\n",
      "severity_rating\n",
      "NaN    320\n",
      "0.0     72\n",
      "3.0     35\n",
      "1.0     33\n",
      "4.0     23\n",
      "Name: count, dtype: int64\n",
      "Column dtype after coercion: float64\n",
      "\n",
      "Target DataFrame size: 500\n",
      "Indices needing processing: [180, 181, 182, 183, 184, 185, 186, 187, 188, 189, 190, 191, 192, 193, 194, 195, 196, 197, 198, 199, 200, 201, 202, 203, 204, 205, 206, 207, 208, 209, 210, 211, 212, 213, 214, 215, 216, 217, 218, 219, 220, 221, 222, 223, 224, 225, 226, 227, 228, 229, 230, 231, 232, 233, 234, 235, 236, 237, 238, 239, 240, 241, 242, 243, 244, 245, 246, 247, 248, 249, 250, 251, 252, 253, 254, 255, 256, 257, 258, 259, 260, 261, 262, 263, 264, 265, 266, 267, 268, 269, 270, 271, 272, 273, 274, 275, 276, 277, 278, 279, 280, 281, 282, 283, 284, 285, 286, 287, 288, 289, 290, 291, 292, 293, 294, 295, 296, 297, 298, 299, 300, 301, 302, 303, 304, 305, 306, 307, 308, 309, 310, 311, 312, 313, 314, 315, 316, 317, 318, 319, 320, 321, 322, 323, 324, 325, 326, 327, 328, 329, 330, 331, 332, 333, 334, 335, 336, 337, 338, 339, 340, 341, 342, 343, 344, 345, 346, 347, 348, 349, 350, 351, 352, 353, 354, 355, 356, 357, 358, 359, 360, 361, 362, 363, 364, 365, 366, 367, 368, 369, 370, 371, 372, 373, 374, 375, 376, 377, 378, 379, 380, 381, 382, 383, 384, 385, 386, 387, 388, 389, 390, 391, 392, 393, 394, 395, 396, 397, 398, 399, 400, 401, 402, 403, 404, 405, 406, 407, 408, 409, 410, 411, 412, 413, 414, 415, 416, 417, 418, 419, 420, 421, 422, 423, 424, 425, 426, 427, 428, 429, 430, 431, 432, 433, 434, 435, 436, 437, 438, 439, 440, 441, 442, 443, 444, 445, 446, 447, 448, 449, 450, 451, 452, 453, 454, 455, 456, 457, 458, 459, 460, 461, 462, 463, 464, 465, 466, 467, 468, 469, 470, 471, 472, 473, 474, 475, 476, 477, 478, 479, 480, 481, 482, 483, 484, 485, 486, 487, 488, 489, 490, 491, 492, 493, 494, 495, 496, 497, 498, 499]\n",
      "Found 320 rows needing processing.\n",
      "Starting processing loop for 320 rows...\n"
     ]
    },
    {
     "name": "stderr",
     "output_type": "stream",
     "text": [
      "C:\\Users\\User\\AppData\\Local\\Temp\\ipykernel_23252\\1940899978.py:43: FutureWarning: A value is trying to be set on a copy of a DataFrame or Series through chained assignment using an inplace method.\n",
      "The behavior will change in pandas 3.0. This inplace method will never work because the intermediate object on which we are setting values always behaves as a copy.\n",
      "\n",
      "For example, when doing 'df[col].method(value, inplace=True)', try using 'df.method({col: value}, inplace=True)' or df[col] = df[col].method(value) instead, to perform the operation inplace on the original object.\n",
      "\n",
      "\n",
      "  result_df['severity_rating'].replace(missing_values, np.nan, inplace=True)\n",
      "C:\\Users\\User\\AppData\\Local\\Temp\\ipykernel_23252\\1940899978.py:43: FutureWarning: Downcasting behavior in `replace` is deprecated and will be removed in a future version. To retain the old behavior, explicitly call `result.infer_objects(copy=False)`. To opt-in to the future behavior, set `pd.set_option('future.no_silent_downcasting', True)`\n",
      "  result_df['severity_rating'].replace(missing_values, np.nan, inplace=True)\n"
     ]
    },
    {
     "data": {
      "application/vnd.jupyter.widget-view+json": {
       "model_id": "cb040c1e6c344a97a404d0c07326437b",
       "version_major": 2,
       "version_minor": 0
      },
      "text/plain": [
       "Processing samples:   0%|          | 0/320 [00:00<?, ?it/s]"
      ]
     },
     "metadata": {},
     "output_type": "display_data"
    },
    {
     "name": "stdout",
     "output_type": "stream",
     "text": [
      "Error processing index 379 (API call failed): 'NoneType' object is not subscriptable\n",
      "Error processing index 380 (API call failed): 'NoneType' object is not subscriptable\n",
      "Error processing index 381 (API call failed): 'NoneType' object is not subscriptable\n",
      "Error processing index 382 (API call failed): 'NoneType' object is not subscriptable\n",
      "Error processing index 383 (API call failed): 'NoneType' object is not subscriptable\n",
      "Error processing index 384 (API call failed): 'NoneType' object is not subscriptable\n",
      "Error processing index 385 (API call failed): 'NoneType' object is not subscriptable\n",
      "Error processing index 386 (API call failed): 'NoneType' object is not subscriptable\n",
      "Error processing index 387 (API call failed): 'NoneType' object is not subscriptable\n",
      "Error processing index 388 (API call failed): 'NoneType' object is not subscriptable\n",
      "Error processing index 389 (API call failed): 'NoneType' object is not subscriptable\n",
      "Error processing index 390 (API call failed): 'NoneType' object is not subscriptable\n",
      "Error processing index 391 (API call failed): 'NoneType' object is not subscriptable\n",
      "Error processing index 392 (API call failed): 'NoneType' object is not subscriptable\n",
      "Error processing index 393 (API call failed): 'NoneType' object is not subscriptable\n",
      "Error processing index 394 (API call failed): 'NoneType' object is not subscriptable\n",
      "Error processing index 395 (API call failed): 'NoneType' object is not subscriptable\n",
      "Error processing index 396 (API call failed): 'NoneType' object is not subscriptable\n",
      "Error processing index 397 (API call failed): 'NoneType' object is not subscriptable\n",
      "Error processing index 398 (API call failed): 'NoneType' object is not subscriptable\n",
      "Error processing index 399 (API call failed): 'NoneType' object is not subscriptable\n",
      "Error processing index 400 (API call failed): 'NoneType' object is not subscriptable\n",
      "Error processing index 401 (API call failed): 'NoneType' object is not subscriptable\n",
      "Error processing index 402 (API call failed): 'NoneType' object is not subscriptable\n",
      "Error processing index 403 (API call failed): 'NoneType' object is not subscriptable\n",
      "Error processing index 404 (API call failed): 'NoneType' object is not subscriptable\n",
      "Error processing index 405 (API call failed): 'NoneType' object is not subscriptable\n",
      "Error processing index 406 (API call failed): 'NoneType' object is not subscriptable\n",
      "Error processing index 407 (API call failed): 'NoneType' object is not subscriptable\n",
      "Error processing index 408 (API call failed): 'NoneType' object is not subscriptable\n",
      "Error processing index 409 (API call failed): 'NoneType' object is not subscriptable\n",
      "Error processing index 410 (API call failed): 'NoneType' object is not subscriptable\n",
      "Error processing index 411 (API call failed): 'NoneType' object is not subscriptable\n",
      "Error processing index 412 (API call failed): 'NoneType' object is not subscriptable\n",
      "Error processing index 413 (API call failed): 'NoneType' object is not subscriptable\n",
      "Error processing index 414 (API call failed): 'NoneType' object is not subscriptable\n",
      "Error processing index 415 (API call failed): 'NoneType' object is not subscriptable\n",
      "Error processing index 416 (API call failed): 'NoneType' object is not subscriptable\n",
      "Error processing index 417 (API call failed): 'NoneType' object is not subscriptable\n",
      "Error processing index 418 (API call failed): 'NoneType' object is not subscriptable\n",
      "Error processing index 419 (API call failed): 'NoneType' object is not subscriptable\n",
      "Error processing index 420 (API call failed): 'NoneType' object is not subscriptable\n",
      "Error processing index 421 (API call failed): 'NoneType' object is not subscriptable\n",
      "Error processing index 422 (API call failed): 'NoneType' object is not subscriptable\n",
      "Error processing index 423 (API call failed): 'NoneType' object is not subscriptable\n",
      "Error processing index 424 (API call failed): 'NoneType' object is not subscriptable\n",
      "Error processing index 425 (API call failed): 'NoneType' object is not subscriptable\n",
      "Error processing index 426 (API call failed): 'NoneType' object is not subscriptable\n",
      "Error processing index 427 (API call failed): 'NoneType' object is not subscriptable\n",
      "Error processing index 428 (API call failed): 'NoneType' object is not subscriptable\n",
      "Error processing index 429 (API call failed): 'NoneType' object is not subscriptable\n",
      "Error processing index 430 (API call failed): 'NoneType' object is not subscriptable\n",
      "Error processing index 431 (API call failed): 'NoneType' object is not subscriptable\n",
      "Error processing index 432 (API call failed): 'NoneType' object is not subscriptable\n",
      "Error processing index 433 (API call failed): 'NoneType' object is not subscriptable\n",
      "Error processing index 434 (API call failed): 'NoneType' object is not subscriptable\n",
      "Error processing index 435 (API call failed): 'NoneType' object is not subscriptable\n",
      "Error processing index 436 (API call failed): 'NoneType' object is not subscriptable\n",
      "Error processing index 437 (API call failed): 'NoneType' object is not subscriptable\n",
      "Error processing index 438 (API call failed): 'NoneType' object is not subscriptable\n",
      "Error processing index 439 (API call failed): 'NoneType' object is not subscriptable\n",
      "Error processing index 440 (API call failed): 'NoneType' object is not subscriptable\n",
      "Error processing index 441 (API call failed): 'NoneType' object is not subscriptable\n",
      "Error processing index 442 (API call failed): 'NoneType' object is not subscriptable\n",
      "Error processing index 443 (API call failed): 'NoneType' object is not subscriptable\n",
      "Error processing index 444 (API call failed): 'NoneType' object is not subscriptable\n",
      "Error processing index 445 (API call failed): 'NoneType' object is not subscriptable\n",
      "Error processing index 446 (API call failed): 'NoneType' object is not subscriptable\n",
      "Error processing index 447 (API call failed): 'NoneType' object is not subscriptable\n",
      "Error processing index 448 (API call failed): 'NoneType' object is not subscriptable\n",
      "Error processing index 449 (API call failed): 'NoneType' object is not subscriptable\n",
      "Error processing index 450 (API call failed): 'NoneType' object is not subscriptable\n",
      "Error processing index 451 (API call failed): 'NoneType' object is not subscriptable\n",
      "Error processing index 452 (API call failed): 'NoneType' object is not subscriptable\n",
      "Error processing index 453 (API call failed): 'NoneType' object is not subscriptable\n",
      "Error processing index 454 (API call failed): 'NoneType' object is not subscriptable\n",
      "Error processing index 455 (API call failed): 'NoneType' object is not subscriptable\n",
      "Error processing index 456 (API call failed): 'NoneType' object is not subscriptable\n",
      "Error processing index 457 (API call failed): 'NoneType' object is not subscriptable\n",
      "Error processing index 458 (API call failed): 'NoneType' object is not subscriptable\n",
      "Error processing index 459 (API call failed): 'NoneType' object is not subscriptable\n",
      "Error processing index 460 (API call failed): 'NoneType' object is not subscriptable\n",
      "Error processing index 461 (API call failed): 'NoneType' object is not subscriptable\n",
      "Error processing index 462 (API call failed): 'NoneType' object is not subscriptable\n",
      "Error processing index 463 (API call failed): 'NoneType' object is not subscriptable\n",
      "Error processing index 464 (API call failed): 'NoneType' object is not subscriptable\n",
      "Error processing index 465 (API call failed): 'NoneType' object is not subscriptable\n",
      "Error processing index 466 (API call failed): 'NoneType' object is not subscriptable\n",
      "Error processing index 467 (API call failed): 'NoneType' object is not subscriptable\n",
      "Error processing index 468 (API call failed): 'NoneType' object is not subscriptable\n",
      "Error processing index 469 (API call failed): 'NoneType' object is not subscriptable\n",
      "Error processing index 470 (API call failed): 'NoneType' object is not subscriptable\n",
      "Error processing index 471 (API call failed): 'NoneType' object is not subscriptable\n",
      "Error processing index 472 (API call failed): 'NoneType' object is not subscriptable\n",
      "Error processing index 473 (API call failed): 'NoneType' object is not subscriptable\n",
      "Error processing index 474 (API call failed): 'NoneType' object is not subscriptable\n",
      "Error processing index 475 (API call failed): 'NoneType' object is not subscriptable\n",
      "Error processing index 476 (API call failed): 'NoneType' object is not subscriptable\n",
      "Error processing index 477 (API call failed): 'NoneType' object is not subscriptable\n",
      "Error processing index 478 (API call failed): 'NoneType' object is not subscriptable\n",
      "Error processing index 479 (API call failed): 'NoneType' object is not subscriptable\n",
      "Error processing index 480 (API call failed): 'NoneType' object is not subscriptable\n",
      "Error processing index 481 (API call failed): 'NoneType' object is not subscriptable\n",
      "Error processing index 482 (API call failed): 'NoneType' object is not subscriptable\n",
      "Error processing index 483 (API call failed): 'NoneType' object is not subscriptable\n",
      "Error processing index 484 (API call failed): 'NoneType' object is not subscriptable\n",
      "Error processing index 485 (API call failed): 'NoneType' object is not subscriptable\n",
      "Error processing index 486 (API call failed): 'NoneType' object is not subscriptable\n",
      "Error processing index 487 (API call failed): 'NoneType' object is not subscriptable\n",
      "Error processing index 488 (API call failed): 'NoneType' object is not subscriptable\n",
      "Error processing index 489 (API call failed): 'NoneType' object is not subscriptable\n",
      "Error processing index 490 (API call failed): 'NoneType' object is not subscriptable\n",
      "Error processing index 491 (API call failed): 'NoneType' object is not subscriptable\n",
      "Error processing index 492 (API call failed): 'NoneType' object is not subscriptable\n",
      "Error processing index 493 (API call failed): 'NoneType' object is not subscriptable\n",
      "Error processing index 494 (API call failed): 'NoneType' object is not subscriptable\n",
      "Error processing index 495 (API call failed): 'NoneType' object is not subscriptable\n",
      "Error processing index 496 (API call failed): 'NoneType' object is not subscriptable\n",
      "Error processing index 497 (API call failed): 'NoneType' object is not subscriptable\n",
      "Error processing index 498 (API call failed): 'NoneType' object is not subscriptable\n",
      "Error processing index 499 (API call failed): 'NoneType' object is not subscriptable\n",
      "Processing finished.\n"
     ]
    }
   ],
   "source": [
    "if not os.path.exists(\"data/deepseek_extra_rows_500-1.csv\"):\n",
    "    # Get the depression severity ratings for the extra rows\n",
    "    extra_rows_500_deepseek = get_depression_severity_openrouter(deepseek_df, model=\"deepseek/deepseek-chat:free\", num_samples=deepseek_df.shape[0])\n",
    "    extra_rows_500_deepseek.to_csv(\"data/deepseek_extra_rows_500-1.csv\", index=False)\n",
    "else:\n",
    "    # Load the existing results\n",
    "    print(\"Loading existing results...\")\n",
    "    extra_rows_500_deepseek = pd.read_csv(\"data/deepseek_extra_rows_500-1.csv\")"
   ]
  },
  {
   "cell_type": "code",
   "execution_count": 98,
   "metadata": {},
   "outputs": [],
   "source": [
    "incomplete_500 = pd.read_csv(\"data/deepseek_extra_rows_500-1.csv\")\n",
    "remaining_df = pd.read_csv(\"data/remaining_missing_df_deepseek.csv\")\n",
    "final_df = pd.read_csv(\"data/deepseek-v3_results.csv\")"
   ]
  },
  {
   "cell_type": "code",
   "execution_count": 99,
   "metadata": {},
   "outputs": [],
   "source": [
    "# drop rows were severity_rating and explanation are empty in incomplete_500\n",
    "incomplete_500 = incomplete_500[(incomplete_500['severity_rating'] != '') | (incomplete_500['explanation'] != '')]\n",
    "# drop rows were severity_rating and explanation are empty in remaining_df\n",
    "remaining_df = remaining_df[(remaining_df['severity_rating'] != '') | (remaining_df['explanation'] != '')]\n",
    "# drop rows were severity_rating and explanation are empty in final_df\n",
    "final_df = final_df[(final_df['severity_rating'] != '') | (final_df['explanation'] != '')]"
   ]
  },
  {
   "cell_type": "code",
   "execution_count": 100,
   "metadata": {},
   "outputs": [],
   "source": [
    "# join all three dataframes on text column and keep all columns\n",
    "final_df = pd.concat([incomplete_500, remaining_df, final_df], ignore_index=True)\n",
    "# remove duplicates from final_df\n",
    "final_df = final_df.drop_duplicates(subset=['text'])\n",
    "# reset index\n",
    "final_df = final_df.reset_index(drop=True)"
   ]
  },
  {
   "cell_type": "code",
   "execution_count": 101,
   "metadata": {},
   "outputs": [
    {
     "data": {
      "text/plain": [
       "525"
      ]
     },
     "execution_count": 101,
     "metadata": {},
     "output_type": "execute_result"
    }
   ],
   "source": [
    "final_df.shape[0]"
   ]
  },
  {
   "cell_type": "code",
   "execution_count": 102,
   "metadata": {},
   "outputs": [],
   "source": [
    "final_df.to_csv(\"data/deepseek-v3_results-525.csv\", index=False)"
   ]
  }
 ],
 "metadata": {
  "kernelspec": {
   "display_name": "venv",
   "language": "python",
   "name": "python3"
  },
  "language_info": {
   "codemirror_mode": {
    "name": "ipython",
    "version": 3
   },
   "file_extension": ".py",
   "mimetype": "text/x-python",
   "name": "python",
   "nbconvert_exporter": "python",
   "pygments_lexer": "ipython3",
   "version": "3.11.5"
  }
 },
 "nbformat": 4,
 "nbformat_minor": 2
}
